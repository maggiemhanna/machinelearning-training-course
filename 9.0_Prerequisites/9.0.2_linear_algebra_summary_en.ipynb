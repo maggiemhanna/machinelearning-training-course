{
 "cells": [
  {
   "cell_type": "markdown",
   "metadata": {},
   "source": [
    "# Matrices and Vectors\n",
    "\n",
    "Matrices are 2-dimensional arrays:\n",
    "\n",
    "\\begin{bmatrix} a & b & c \\newline d & e & f \\newline g & h & i \\newline j & k & l\\end{bmatrix}\n",
    "\n",
    "The above matrix has four rows and three columns, so it is a 4 x 3 matrix.\n",
    "\n",
    "A vector is a matrix with one column and many rows:\n",
    "\n",
    "\\begin{bmatrix} w \\newline x \\newline y \\newline z \\end{bmatrix}\n",
    "\n",
    "So vectors are a subset of matrices. The above vector is a 4 x 1 matrix.\n",
    "\n",
    "Notation and terms:\n",
    "\n",
    "* $A_{ij}$ refers to the element in the ith row and jth column of matrix A.\n",
    "\n",
    "* A vector with 'n' rows is referred to as an 'n'-dimensional vector.\n",
    "\n",
    "* $v_i$ refers to the element in the ith row of the vector.\n",
    "\n",
    "* With python, all our vectors and matrices will be 0-indexed. Note that for some programming languages, the arrays are 1-indexed.\n",
    "\n",
    "* Matrices are usually denoted by uppercase names while vectors are lowercase.\n",
    "\n",
    "* \"Scalar\" means that an object is a single value, not a vector or matrix.\n",
    "\n",
    "* $\\mathbb{R}$ refers to the set of scalar real numbers.\n",
    "\n",
    "* $\\mathbb{R^n}$ refers to the set of n-dimensional vectors of real numbers.\n",
    "\n",
    "\n",
    "\n"
   ]
  },
  {
   "cell_type": "markdown",
   "metadata": {},
   "source": [
    "## Matrices & Vectors with Python\n",
    "\n",
    "Python doesn't have a built-in type for matrices. However, we can treat a list of lists as a matrix. For example:"
   ]
  },
  {
   "cell_type": "code",
   "execution_count": 11,
   "metadata": {},
   "outputs": [],
   "source": [
    "A = [[1, 2, 3], [4, 5, 6], [7, 8, 9], [10, 11, 12]]"
   ]
  },
  {
   "cell_type": "code",
   "execution_count": 12,
   "metadata": {},
   "outputs": [
    {
     "name": "stdout",
     "output_type": "stream",
     "text": [
      "A = [[1, 2, 3], [4, 5, 6], [7, 8, 9], [10, 11, 12]]\n",
      "A[1] = [4, 5, 6]\n",
      "A[1][2] = 6\n",
      "A[0][-1] = 3\n",
      "3rd column = [3, 6, 9, 12]\n"
     ]
    }
   ],
   "source": [
    "print(\"A =\", A) \n",
    "print(\"A[1] =\", A[1])      # 2nd row\n",
    "print(\"A[1][2] =\", A[1][2])   # 3rd element of 2nd row\n",
    "print(\"A[0][-1] =\", A[0][-1])   # Last element of 1st Row\n",
    "column = [];        # empty list\n",
    "for row in A:\n",
    "  column.append(row[2])   \n",
    "print(\"3rd column =\", column)"
   ]
  },
  {
   "cell_type": "markdown",
   "metadata": {},
   "source": [
    "Using nested lists as a matrix works for simple computational tasks, however, there is a better way of working with matrices in Python using NumPy package.\n",
    "\n"
   ]
  },
  {
   "cell_type": "markdown",
   "metadata": {},
   "source": [
    "## NumPy\n",
    "\n",
    "NumPy is a package for scientific computing which has support for a powerful N-dimensional array object.\n",
    "NumPy provides multidimensional array of numbers (which is actually an object). Let's take an example:\n",
    "\n"
   ]
  },
  {
   "cell_type": "code",
   "execution_count": 63,
   "metadata": {},
   "outputs": [
    {
     "name": "stdout",
     "output_type": "stream",
     "text": [
      "A = \n",
      "[[ 1  2  3]\n",
      " [ 4  5  6]\n",
      " [ 7  8  9]\n",
      " [10 11 12]]\n",
      "type of A = <class 'numpy.ndarray'>\n"
     ]
    }
   ],
   "source": [
    "import numpy as np\n",
    "A = np.array([[1, 2, 3], [4, 5, 6], [7, 8, 9], [10, 11, 12]])\n",
    "print(\"A = \")\n",
    "print(A)              \n",
    "print(\"type of A =\",type(A)) "
   ]
  },
  {
   "cell_type": "code",
   "execution_count": 35,
   "metadata": {},
   "outputs": [
    {
     "name": "stdout",
     "output_type": "stream",
     "text": [
      "The dimension of matrix A is: 4,3\n",
      "The dimension of matrix A is: (4, 3)\n",
      "The dimension of vector v is: (3,)\n",
      "A_12 = 6\n"
     ]
    }
   ],
   "source": [
    "# Initialize a matrix \n",
    "A = np.array([[1, 2, 3], [4, 5, 6], [7, 8, 9], [10, 11, 12]])\n",
    "\n",
    "# Initialize a vector \n",
    "v = np.array([1, 2, 3])\n",
    "              \n",
    "# Get the dimension of the matrix A where m = rows and n = columns\n",
    "[m,n] = A.shape\n",
    "print(\"The dimension of matrix A is: {},{}\".format(m,n))\n",
    "\n",
    "# You could also store it this way\n",
    "dim_A = A.shape\n",
    "print(\"The dimension of matrix A is: {}\".format(dim_A))\n",
    "\n",
    "# Get the dimension of the vector v \n",
    "dim_v = v.shape\n",
    "print(\"The dimension of vector v is: {}\".format(dim_v))\n",
    "\n",
    "# Now let's index into the 2nd row 3rd column of matrix A\n",
    "A_12 = A[1,2]\n",
    "print(\"A_12 = {}\".format(A_12))\n"
   ]
  },
  {
   "cell_type": "markdown",
   "metadata": {},
   "source": [
    "# Matrix Addition and Scalar Multiplication\n",
    "\n",
    "Addition and subtraction are element-wise, so you simply add or subtract each corresponding element:\n",
    "\n",
    "\\begin{equation}\n",
    "\\begin{bmatrix} a & b \\newline c & d \\newline \\end{bmatrix} + \\begin{bmatrix} w & x \\newline y & z \\newline \\end{bmatrix} =\\begin{bmatrix} a+w & b+x \\newline c+y & d+z \\newline \\end{bmatrix}\n",
    "\\end{equation}\n",
    "\n",
    "Subtracting Matrices:\n",
    "\n",
    "\\begin{equation}\n",
    "\\begin{bmatrix} a & b \\newline c & d \\newline \\end{bmatrix} - \\begin{bmatrix} w & x \\newline y & z \\newline \\end{bmatrix} =\\begin{bmatrix} a-w & b-x \\newline c-y & d-z \\newline \\end{bmatrix}\n",
    "\\end{equation}\n",
    "\n",
    "To add or subtract two matrices, their dimensions must be the same.\n",
    "\n",
    "In scalar multiplication, we simply multiply every element by the scalar value:\n",
    "\n",
    "\\begin{equation}\n",
    "\\begin{bmatrix} a & b \\newline c & d \\newline \\end{bmatrix} * x =\\begin{bmatrix} a*x & b*x \\newline c*x & d*x \\newline \\end{bmatrix}\n",
    "\\end{equation}\n",
    "\n",
    "In scalar division, we simply divide every element by the scalar value:\n",
    "\n",
    "\\begin{equation}\n",
    "\\begin{bmatrix} a & b \\newline c & d \\newline \\end{bmatrix} / x =\\begin{bmatrix} a /x & b/x \\newline c /x & d /x \\newline \\end{bmatrix}\n",
    "\\end{equation}\n",
    "\n"
   ]
  },
  {
   "cell_type": "markdown",
   "metadata": {},
   "source": [
    "### Addition and Scalar Multiplication with Python\n"
   ]
  },
  {
   "cell_type": "code",
   "execution_count": 60,
   "metadata": {},
   "outputs": [
    {
     "name": "stdout",
     "output_type": "stream",
     "text": [
      "\n",
      " add_AB = \n",
      "[[2 5 8]\n",
      " [6 4 3]]\n",
      "\n",
      " sub_AB = \n",
      "[[ 0 -1  0]\n",
      " [ 4  2  1]]\n",
      "\n",
      " mult_As = \n",
      "[[ 2  4  8]\n",
      " [10  6  4]]\n",
      "\n",
      " div_As = \n",
      "[[0.5 1.  2. ]\n",
      " [2.5 1.5 1. ]]\n",
      "\n",
      " add_As = \n",
      "[[3 4 6]\n",
      " [7 5 4]]\n"
     ]
    }
   ],
   "source": [
    "# Initialize matrix A and B \n",
    "A = np.array([[1, 2, 4], [5, 3, 2]])\n",
    "B = np.array([[1, 3, 4], [1, 1, 1]])\n",
    "\n",
    "# Initialize constant s \n",
    "s = 2\n",
    "\n",
    "# See how element-wise addition works\n",
    "add_AB = A + B \n",
    "print(\"\\n add_AB = \")\n",
    "print(add_AB)\n",
    "\n",
    "# See how element-wise subtraction works\n",
    "sub_AB = A - B\n",
    "print(\"\\n sub_AB = \")\n",
    "print(sub_AB)\n",
    "\n",
    "# See how scalar multiplication works\n",
    "mult_As = A * s\n",
    "print(\"\\n mult_As = \")\n",
    "print(mult_As)\n",
    "\n",
    "# Divide A by s\n",
    "div_As = A / s\n",
    "print(\"\\n div_As = \")\n",
    "print(div_As)\n",
    "\n",
    "# What happens if we have a Matrix + scalar?\n",
    "add_As = A + s\n",
    "print(\"\\n add_As = \")\n",
    "print(add_As)\n"
   ]
  },
  {
   "cell_type": "markdown",
   "metadata": {},
   "source": [
    "# Matrix-Vector Multiplication\n",
    "\n",
    "We map the column of the vector onto each row of the matrix, multiplying each element and summing the result.\n",
    "\n",
    "\\begin{equation}\n",
    "\\begin{bmatrix} a & b \\newline c & d \\newline e & f \\end{bmatrix} *\\begin{bmatrix} x \\newline y \\newline \\end{bmatrix} =\\begin{bmatrix} a*x + b*y \\newline c*x + d*y \\newline e*x + f*y\\end{bmatrix}\n",
    "\\end{equation}\n",
    "\n",
    "The result is a **vector**. The number of **columns** of the matrix must equal the number of **rows** of the vector.\n",
    "\n",
    "An **m x n matrix** multiplied by an **n x 1 vector** results in an **m x 1 vector**.\n",
    "\n",
    "Below is an example of a matrix-vector multiplication. Make sure you understand how the multiplication works. Feel free to try different matrix-vector multiplications."
   ]
  },
  {
   "cell_type": "code",
   "execution_count": 65,
   "metadata": {},
   "outputs": [
    {
     "name": "stdout",
     "output_type": "stream",
     "text": [
      "\n",
      " Av = \n",
      "[[14]\n",
      " [32]\n",
      " [50]]\n"
     ]
    }
   ],
   "source": [
    "# Initialize matrix A \n",
    "A = np.array([[1, 2, 3], [4, 5, 6], [7, 8, 9]])\n",
    "\n",
    "# Initialize vector v\n",
    "v = np.array([[1], [2], [3]])\n",
    "\n",
    "# Multiply A * B\n",
    "Av = np.matmul(A, v)\n",
    "print(\"\\n Av = \")\n",
    "print(Av)"
   ]
  },
  {
   "cell_type": "markdown",
   "metadata": {},
   "source": [
    "# Matrix-Matrix Multiplication\n",
    "\n",
    "We multiply two matrices by breaking it into several vector multiplications and concatenating the result.\n",
    "\n",
    "\\begin{equation}\n",
    "\\begin{bmatrix} a & b \\newline c & d \\newline e & f \\end{bmatrix} *\\begin{bmatrix} w & x \\newline y & z \\newline \\end{bmatrix} =\\begin{bmatrix} a*w + b*y & a*x + b*z \\newline c*w + d*y & c*x + d*z \\newline e*w + f*y & e*x + f*z\\end{bmatrix}\n",
    "\\end{equation}\n",
    "\n",
    "An **m x n matrix** multiplied by an **n x o matrix** results in an **m x o matrix**. In the above example, a 3 x 2 matrix times a 2 x 2 matrix resulted in a 3 x 2 matrix.\n",
    "\n",
    "To multiply two matrices, the number of **columns** of the first matrix must equal the number of **rows** of the second matrix.\n",
    "\n",
    "For example:\n"
   ]
  },
  {
   "cell_type": "code",
   "execution_count": 61,
   "metadata": {},
   "outputs": [
    {
     "name": "stdout",
     "output_type": "stream",
     "text": [
      "\n",
      " AB = \n",
      "[[ 22  28]\n",
      " [ 49  64]\n",
      " [ 76 100]]\n"
     ]
    }
   ],
   "source": [
    "# Initialize matrix A \n",
    "A = np.array([[1, 2, 3], [4, 5, 6], [7, 8, 9]])\n",
    "\n",
    "# Initialize matrix B\n",
    "B = np.array([[1, 2], [3, 4], [5, 6]])\n",
    "\n",
    "# Multiply A * B\n",
    "AB = np.matmul(A, B)\n",
    "print(\"\\n AB = \")\n",
    "print(AB)\n"
   ]
  },
  {
   "cell_type": "markdown",
   "metadata": {},
   "source": [
    "## Matrix Multiplication Properties\n",
    "\n",
    "* Matrices are not commutative: A∗B≠B∗A\n",
    "* Matrices are associative: (A∗B)∗C=A∗(B∗C)\n",
    "\n",
    "The identity matrix, when multiplied by any matrix of the same dimensions, results in the original matrix. It's just like multiplying numbers by 1. The identity matrix simply has 1's on the diagonal (upper left to lower right diagonal) and 0's elsewhere.\n",
    "\n",
    "\\begin{bmatrix} 1 & 0 & 0 \\newline 0 & 1 & 0 \\newline 0 & 0 & 1 \\newline \\end{bmatrix}\n",
    "\n",
    "When multiplying the identity matrix after some matrix (A∗I), the square identity matrix's dimension should match the other matrix's columns. When multiplying the identity matrix before some other matrix (I∗A), the square identity matrix's dimension should match the other matrix's rows.\n",
    "\n"
   ]
  },
  {
   "cell_type": "code",
   "execution_count": 70,
   "metadata": {},
   "outputs": [
    {
     "name": "stdout",
     "output_type": "stream",
     "text": [
      "\n",
      " IA = \n",
      "[[1. 2.]\n",
      " [3. 4.]]\n",
      "\n",
      " AI = \n",
      "[[1. 2.]\n",
      " [3. 4.]]\n",
      "\n",
      " AB = \n",
      "[[ 1  5]\n",
      " [ 3 11]]\n",
      "\n",
      " BA = \n",
      "[[4 6]\n",
      " [6 8]]\n"
     ]
    }
   ],
   "source": [
    "# Initialize random matrices A and B \n",
    "A = np.array([[1, 2], [3, 4]])\n",
    "B = np.array([[1, 1], [0, 2]])\n",
    "\n",
    "# Initialize a 2 by 2 identity matrix\n",
    "I = np.eye(2)\n",
    "\n",
    "# The above notation is the same as I = [1,0;0,1]\n",
    "\n",
    "# What happens when we multiply I*A ? \n",
    "IA = np.matmul(I,A)\n",
    "print(\"\\n IA = \")\n",
    "print(IA)\n",
    "\n",
    "# How about A*I ? \n",
    "AI = np.matmul(A,I)\n",
    "print(\"\\n AI = \")\n",
    "print(AI)\n",
    "\n",
    "# Compute A*B \n",
    "AB = np.matmul(A,B) \n",
    "print(\"\\n AB = \")\n",
    "print(AB)\n",
    "\n",
    "# Is it equal to B*A? \n",
    "BA = np.matmul(B,A)\n",
    "print(\"\\n BA = \")\n",
    "print(BA)\n",
    "\n",
    "# Note that IA = AI but AB != BA"
   ]
  },
  {
   "cell_type": "markdown",
   "metadata": {},
   "source": [
    "# Matrix Inverse and Transpose\n",
    "\n",
    "The **inverse** of a matrix $A$ is denoted $A^{-1}$.\n",
    "Multiplying by the inverse results in the identity matrix.\n",
    "\n",
    "A non-square matrix does not have an inverse matrix. We can compute inverses of matrices in python with the `np.linalg.inv(A)` function. \n",
    "Matrices that don't have an inverse are singular or degenerate.\n",
    "\n",
    "The **transposition** of a matrix is like rotating the matrix 90° in the clockwise direction and then reversing it. We can compute transposition of matrices in python with the `np.matrix.transpose(A)` function:"
   ]
  },
  {
   "cell_type": "code",
   "execution_count": 81,
   "metadata": {},
   "outputs": [
    {
     "name": "stdout",
     "output_type": "stream",
     "text": [
      "\n",
      " A_trans = \n",
      "[[1 4 7]\n",
      " [2 0 8]\n",
      " [3 6 9]]\n",
      "\n",
      " A_inv = \n",
      "[[-0.8         0.1         0.2       ]\n",
      " [ 0.1        -0.2         0.1       ]\n",
      " [ 0.53333333  0.1        -0.13333333]]\n",
      "\n",
      " A_invA = \n",
      "[[ 1.00000000e+00  0.00000000e+00  2.77555756e-17]\n",
      " [-1.11022302e-16  1.00000000e+00  0.00000000e+00]\n",
      " [ 0.00000000e+00  0.00000000e+00  1.00000000e+00]]\n"
     ]
    }
   ],
   "source": [
    "# Initialize matrix A \n",
    "A = np.array([[1, 2, 3], [4, 0, 6], [7, 8, 9]])\n",
    "\n",
    "# Transpose A \n",
    "A_trans = np.matrix.transpose(A) \n",
    "print(\"\\n A_trans = \")\n",
    "print(A_trans)\n",
    "\n",
    "# Take the inverse of A \n",
    "A_inv = np.linalg.inv(A)\n",
    "print(\"\\n A_inv = \")\n",
    "print(A_inv)\n",
    "\n",
    "# What is A^(-1)*A? \n",
    "A_invA = np.matmul(A_inv,A)\n",
    "print(\"\\n A_invA = \")\n",
    "print(A_invA)"
   ]
  }
 ],
 "metadata": {
  "kernelspec": {
   "display_name": "pfa-venv",
   "language": "python",
   "name": "pfa-venv"
  },
  "language_info": {
   "codemirror_mode": {
    "name": "ipython",
    "version": 3
   },
   "file_extension": ".py",
   "mimetype": "text/x-python",
   "name": "python",
   "nbconvert_exporter": "python",
   "pygments_lexer": "ipython3",
   "version": "3.7.4"
  }
 },
 "nbformat": 4,
 "nbformat_minor": 2
}
