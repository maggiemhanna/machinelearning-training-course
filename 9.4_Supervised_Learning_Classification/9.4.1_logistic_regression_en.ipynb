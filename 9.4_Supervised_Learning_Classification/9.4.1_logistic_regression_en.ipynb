{
 "cells": [
  {
   "cell_type": "code",
   "execution_count": 1,
   "metadata": {},
   "outputs": [
    {
     "data": {
      "text/html": [
       "<style>div.item {\n",
       "    vertical-align: bottom;\n",
       "    text-align: center;\n",
       "}\n",
       "img {\n",
       "    background-color: white;\n",
       "}\n",
       ".caption {\n",
       "    display: block;\n",
       "}\n",
       "\n",
       "/* Three image containers (use 25% for four, and 50% for two, etc) */\n",
       ".column {\n",
       "  float: left;\n",
       "  width: 50%;\n",
       "  padding: 5px;\n",
       "}\n",
       "\n",
       "/* Clear floats after image containers */\n",
       ".row::after {\n",
       "  content: \"\";\n",
       "  clear: both;\n",
       "  display: table;\n",
       "}\n",
       "</style>"
      ],
      "text/plain": [
       "<IPython.core.display.HTML object>"
      ]
     },
     "execution_count": 1,
     "metadata": {},
     "output_type": "execute_result"
    }
   ],
   "source": [
    "### import utils\n",
    "import warnings, utils\n",
    "\n",
    "warnings.filterwarnings('ignore')\n",
    "utils.set_css_style('style.css')"
   ]
  },
  {
   "cell_type": "markdown",
   "metadata": {},
   "source": [
    "# 1. Logistic Regression\n",
    "\n",
    "Logistic regression is a classification algorithm used to assign observations to a discrete set of classes (a small number of discrete values). Logistic regression is a classification model that brings great explicability between different variables, just like linear regression. Some of the examples of classification problems are Email spam or not spam, Online transactions Fraud or not Fraud, Tumor Malignant or Benign. For now, we will focus on the binary classification problem in which y can take on only two values, 0 and 1. \n",
    "\n",
    "Most of the notions that will be presented will also generalize to the multiple-class case.\n",
    "\n",
    "For instance, if we are trying to build a spam classifier for email, then $x^{(i)}$ may be some feature of a piece of email, and y will be $1$ if the mail is spam, and 0 otherwise. Hence, $y \\in \\{0,1\\}$. $0$ is also called the negative class, and $1$ the positive class. They are sometimes also denoted by the symbols \"-\" and \"+\". Given $x^{(i)}$, the corresponding $y^{(i)}$ is also called the label for the training example."
   ]
  },
  {
   "cell_type": "markdown",
   "metadata": {},
   "source": [
    "# 2. Hypothesis Representation\n",
    "\n",
    "We could approach the classification problem ignoring the fact that $y$ is discrete-valued, and use our old linear regression algorithm to try to predict $y$ given $x$. However, it is easy to construct examples where this method performs very poorly.\n",
    "\n",
    "<img src=\"figures/logistic_regression.png\" alt=\"logistic_regression\" style=\"width: 600px;\"/>\n",
    "\n",
    "Intuitively, it also doesn’t make sense for $h_{\\boldsymbol{\\theta}} (x)$ to take values larger than 1 or smaller than 0 when we know that $y \\in \\{0, 1\\}$. To fix this, let’s change the form for our hypotheses $h_{\\boldsymbol{\\theta}}(x)$ to satisfy $0 \\leq h_{\\boldsymbol{\\theta}} (x) \\leq 1$. In order to map predicted values to probabilities, we use the Sigmoid function (Logistic function). The function maps any real value into a value between 0 and 1. In machine learning, we use sigmoid to map predictions to probabilities.\n",
    "\n",
    "Our new form uses the \"Sigmoid Function,\" also called the \"Logistic Function\":\n",
    "\n",
    "\\begin{align*} & z = \\boldsymbol{\\theta}^\\top \\mathbf{x} \\newline & g(z) = \\dfrac{1}{1 + e^{-z}} \\newline & h_{\\boldsymbol{\\theta}} (\\mathbf{x}) = g ( \\boldsymbol{\\theta}^\\top \\mathbf{x} ) \\end{align*}\n",
    "\n",
    "Using one line to express our hypothesis:\n",
    "\n",
    "\\begin{equation}\n",
    "h_{\\boldsymbol{\\theta}} (\\mathbf{x}) = \\dfrac{1}{1 + e^{-\\boldsymbol{\\theta}^\\top \\mathbf{x}}} = \\dfrac{1}{1 + e^{-(\\theta_0 + \\theta_1 x_1 + \\theta_2 x_2 + ... + \\theta_n x_n)}}\n",
    "\\end{equation}\n",
    "\n",
    "\n",
    "Where $\\boldsymbol{\\theta} = \\begin{bmatrix}\\theta_0 \\newline \\theta_1 \\newline \\vdots \\newline \\theta_n\\end{bmatrix}$ and $\\mathbf{x} = \\begin{bmatrix}x_0 \\newline x_1 \\newline \\vdots \\newline x_n\\end{bmatrix}$\n",
    "\n",
    "Remark: we assume $x_{0}^{(i)} =1 \\text{ for } (i\\in { 1,\\dots, m } )$. This allows us to do matrix operations with $\\boldsymbol{\\theta}$ and $\\mathbf{x}$.\n",
    "\n",
    "The following image shows us what the sigmoid function $g(z) = \\dfrac{1}{1 + e^{-z}}$ looks like:\n",
    "\n",
    "<img src=\"figures/sigmoid.svg.png\" alt=\"sigmoid\" style=\"width: 400px;\"/>\n",
    "\n",
    "\n",
    "$h_{\\boldsymbol{\\theta}}(x)$ will give us the probability that our output is 1. For example, $h_{\\boldsymbol{\\theta}}(\\mathbf{x})=0.7$ gives us a probability of 70% that our output is 1. Our probability that our prediction is 0 is just the complement of our probability that it is 1 (e.g. if the probability that it is 1 is 70%, then the probability that it is 0 is 30%).\n",
    "\n",
    "\\begin{align*}& h_{\\boldsymbol{\\theta}}(\\mathbf{x}) = p(y=1 | \\mathbf{x} ; \\boldsymbol{\\theta}) = 1 - p(y=0 | \\mathbf{x} ; \\boldsymbol{\\theta}) \\newline& p(y = 0 | \\mathbf{x} ; \\boldsymbol{\\theta}) + p(y = 1 | \\mathbf{x} ; \\boldsymbol{\\theta}) = 1\\end{align*}\n",
    "\n",
    "### Logit Function\n",
    "\n",
    "Logistic regression can be expressed as:\n",
    "\n",
    "\\begin{equation}\n",
    "log(\\frac{p(y = 1 | \\mathbf{x} ; \\boldsymbol{\\theta})}{1- p(y = 1 | \\mathbf{x} ; \\boldsymbol{\\theta}) }) = \\boldsymbol{\\theta}^\\top \\mathbf{x}\n",
    "\\end{equation}\n",
    "\n",
    "Where the left-hand side is called the logit or log-odds function.\n",
    "The odds signifies the ratio of the probability of success to the probability of failure. Therefore, in Logistic Regression, a linear combination of inputs is mapped to the log(odds)."
   ]
  },
  {
   "cell_type": "markdown",
   "metadata": {},
   "source": [
    "# 3. Decision Boundary\n",
    "\n",
    "When we pass the inputs through a hypothesis function, it returns a probability score between 0 and 1. We expect our classifier to give us a set of outputs or classes based on the probability.\n",
    "\n",
    "It's great that we can obtain a probability from our logistic regression model. However, at the end of the day sometimes users just want a simple decision to be made for them, for their real-world problems. Should the email be sent to the spam folder or not? Should the loan be approved or not? Which road should we route the user through? How can we use our probability estimate to help the tool using our model to make a decision? We choose a **threshold**.\n",
    "\n",
    "If we have 2 classes, we basically decide with a threshold value on the output probability above which we classify values into the positive class and if the value goes below the threshold then we classify it into the negative class.\n",
    "\n",
    "In order to get our discrete 0 or 1 classification, one way is to consider a threshold of 0.5, we may translate the output of the hypothesis function in this case as follows:\n",
    "\n",
    "\\begin{align*}& h_{\\boldsymbol{\\theta}}(\\mathbf{x}) \\geq 0.5 \\rightarrow y = 1 \\newline& h_{\\boldsymbol{\\theta}}(\\mathbf{x}) < 0.5 \\rightarrow y = 0 \\newline\\end{align*}\n",
    "\n",
    "<img src=\"figures/decision_boundary.png\" alt=\"decision_boundary\" style=\"width: 400px;\"/>\n",
    "\n",
    "The way our logistic function g behaves is that when its input is greater than or equal to zero, its output is greater than or equal to 0.5 (See sigmoid function above):\n",
    "\n",
    "\\begin{align*}& h_{\\boldsymbol{\\theta}}(\\mathbf{x}) = g(\\boldsymbol{\\theta}^\\top \\mathbf{x}) \\geq 0.5 \\newline& \\text{when} \\; \\boldsymbol{\\theta}^\\top \\mathbf{x} \\geq 0\\end{align*}\n",
    "\n",
    "From these statements we can now say:\n",
    "\n",
    "\\begin{align*}& \\boldsymbol{\\theta}^\\top \\mathbf{x} \\geq 0 \\Rightarrow y = 1 \\newline& \\boldsymbol{\\theta}^\\top \\mathbf{x} < 0 \\Rightarrow y = 0 \\newline\\end{align*}\n",
    "\n",
    "The **decision boundary** for this threshold is the line $\\boldsymbol{\\theta}^\\top \\mathbf{x} = 0$ that separates the area where y = 0 and where y = 1.\n",
    "\n",
    "So far, we have considered a simple threshold of a binary classification problem in which all probabilities less than or equal to 50 percent are classified into the positive class and all probabilities greater than 50 percent are classified into the negative class. However, for certain real-world problems, this threshold could be different. Depending on how we want the balance of our recall and precision, our false positives and false negatives... We can tune our choice of threshold to optimize the metric of our choice on a separate validation set. \n",
    "\n",
    "The Area-Under-Curve (AUC) of the ROC curve provides an aggregate measure of performance across all possible classification thresholds. AUC helps us choose between models when we don't know what decision threshold is going to be ultimately used. AUC is interpreted as follows: if we pick a random positive and a random negative what's the probability my model scores them in the correct relative order?\n",
    "\n",
    "(For more info, go back to evaluation metrics in Chapter 2)."
   ]
  },
  {
   "cell_type": "markdown",
   "metadata": {},
   "source": [
    "# 4. Cost Function\n",
    "\n",
    "We learned about the cost function J(θ) in the Linear regression, the cost function represents optimization objective i.e. we create a cost function and minimize it so that we can develop an accurate model with minimum error.\n",
    "\n",
    "If we try to use the cost function of the linear regression in ‘Logistic Regression’ then it would be of no use as it would end up being a **non-convex** function with **many local minimums**, in which it would be very difficult to minimize the cost value and find the global minimum.\n",
    "\n",
    "Instead, our cost function for logistic regression looks like:\n",
    "\n",
    "\\begin{align*}\n",
    "J(\\boldsymbol{\\theta}) & = \\dfrac{1}{m} \\sum_{i=1}^m \\mathrm{Cost}(h_{\\boldsymbol{\\theta}}(\\mathbf{x}^{(i)}),y^{(i)}) \\newline\n",
    "& = \\dfrac{1}{m} \\sum_{i=1}^m \\left[-y^{(i)} \\log(h_{\\boldsymbol{\\theta}}(\\mathbf{x}^{(i)})) -(1-y^{(i)}) \\log(1-h_{\\boldsymbol{\\theta}}(\\mathbf{x}^{(i)}))\\right]\n",
    "\\end{align*}\n",
    "\n",
    "The cost can be written as:\n",
    "\n",
    "\\begin{align*}\n",
    "& \\mathrm{Cost}(h_{\\boldsymbol{\\theta}}(\\mathbf{x}),y) = -\\log(h_{\\boldsymbol{\\theta}}(\\mathbf{x})) \\; & \\text{if y = 1} \\newline \n",
    "& \\mathrm{Cost}(h_{\\boldsymbol{\\theta}}(\\mathbf{x}),y) = -\\log(1-h_{\\boldsymbol{\\theta}}(\\mathbf{x})) \\; & \\text{if y = 0}\n",
    "\\end{align*}\n",
    "\n",
    "If our correct answer 'y' is 0, then the cost function will be 0 if our hypothesis function also outputs 0. If our hypothesis approaches 1, then the cost function will approach infinity.\n",
    "\n",
    "If our correct answer 'y' is 1, then the cost function will be 0 if our hypothesis function outputs 1. If our hypothesis approaches 0, then the cost function will approach infinity.\n",
    "\n",
    "<div class=\"row\">\n",
    "  <div class=\"column\">\n",
    "    <img src=\"figures/cost_1.png\" alt=\"cost_1\" style=\"width: 400px;\"/>\n",
    "  </div>\n",
    "  <div class=\"column\">\n",
    "     <img src=\"figures/cost_0.png\" alt=\"cost_0\" style=\"width: 400px;\"/>\n",
    "  </div>\n",
    "</div>\n",
    "\n",
    "Unlike mean squared error, there is less emphasis on errors where the output is relatively close to the label where it's almost linear compared to quadratic. However, also unlike mean squared error, this loss function grows exponentially when the prediction is close to the opposite the label. In other words, there is a very high penalty when the model not only gets it wrong but does so with very high confidence. \n",
    "\n",
    "Note that writing the cost function in this way guarantees that $J(\\boldsymbol{\\theta})$ is convex for logistic regression.\n",
    "\n",
    "A vectorized implementation is:\n",
    "\n",
    "\\begin{align*} & h = g(X \\boldsymbol{\\theta})\\newline & J(\\boldsymbol{\\theta}) = \\frac{1}{m} \\cdot \\left(-y^{T}\\log(h)-(1-y)^{T}\\log(1-h)\\right) \\end{align*}\n",
    "\n",
    "The loss is called the **log-loss**. It is also known by the **log-likelihood**, or the **cross-entropy** loss."
   ]
  },
  {
   "cell_type": "markdown",
   "metadata": {},
   "source": [
    "# 5. Gradient Descent\n",
    "\n",
    "Now the question arises, how do we reduce the cost value. Well, this can be done by using Gradient Descent. The main goal of Gradient descent is to minimize the cost value. i.e. min $J(\\boldsymbol{\\theta})$.\n",
    "\n",
    "Remember that the general form of gradient descent is:\n",
    "\n",
    "$$\n",
    "\\begin{align*}& Repeat \\; \\lbrace \\newline & \\; \\theta_j := \\theta_j - \\alpha \\dfrac{\\partial}{\\partial \\theta_j}J(\\boldsymbol{\\theta}) \\newline & \\rbrace\\end{align*}\n",
    "$$\n",
    "\n",
    "We can work out the derivative part using calculus to get:\n",
    "\n",
    "\\begin{align*} & Repeat \\; \\lbrace \\newline & \\; \\theta_j := \\theta_j - \\frac{\\alpha}{m} \\sum_{i=1}^m (h_{\\boldsymbol{\\theta}}(\\mathbf{x}^{(i)}) - y^{(i)}) \\mathbf{x}_j^{(i)} \\newline & \\rbrace \\end{align*}\n",
    "\n",
    "\n",
    "\"Conjugate gradient\", \"BFGS\", and \"L-BFGS\" are more sophisticated, sometimes faster ways to optimize $\\boldsymbol{\\theta}$ that can be used instead of gradient descent. For more details [check here](https://stackoverflow.com/questions/38640109/logistic-regression-python-solvers-defintions)."
   ]
  },
  {
   "cell_type": "markdown",
   "metadata": {},
   "source": [
    "**Regularization** is **very important** in logistic regression because driving the **log-loss** to zero is difficult and dangerous. First, as gradient descent seeks to minimize the log-loss, it pushes output values closer to one for positive labels and closer to zero for negative labels. Due to the equation of the sigmoid, the function asymptotes to zero when the logit function is negative infinity, and to one when the logit is positive infinity. To get the logits to negative or positive infinity, the weights are highly increased leading to numerical stability problems, overflows, and underflows. This is dangerous and can ruin our training. Also, near the asymptotes, as you can see from the graph, the sigmoid function becomes flatter and flatter. This means that the derivative is getting closer and closer to zero. Since we use the derivatives/gradients to update the weights, it is important for the gradients not to become zero, or else, training will stop. This is called saturation, or a vanishing gradient problem and makes training difficult.\n",
    "\n",
    "It is also extremely important that our model generalizes so that we have the best predictions on new data which is the entire reason we create the model, to begin with. To help do this, it is important that we do not overfit our data. Therefore, adding in penalty terms to the objective function like with $L_1$ regularization for sparsity and $L_2$ regularization for keeping model weights small, or adding early stopping can help in this regard."
   ]
  },
  {
   "cell_type": "markdown",
   "metadata": {},
   "source": [
    "# 6. Multiclass Classification\n",
    "\n",
    "## 6.1. One-vs-all\n",
    "\n",
    "Now we will approach the classification of data when we have more than two categories. Instead of $y = \\{0,1\\}$ we will expand our definition so that $y = \\{1,2,...C\\}$.\n",
    "\n",
    "Since $y = \\{1,2,...C\\}$, we divide our problem into $C$ binary classification problems; in each one, we predict the probability that 'y' is a member of one of our classes.\n",
    "\n",
    "\\begin{align*}\n",
    "& y \\in \\lbrace1, 2 ... C\\rbrace \\newline\n",
    "& h_{\\boldsymbol{\\theta}}^{(1)}(\\mathbf{x}) = p(y = 1 | \\mathbf{x} ; \\boldsymbol{\\theta}^{(1)}) \\newline\n",
    "& h_{\\boldsymbol{\\theta}}^{(2)}(\\mathbf{x}) = p(y = 2 | \\mathbf{x} ; \\boldsymbol{\\theta}^{(2)}) \\newline\n",
    "& \\cdots \\newline& h_{\\boldsymbol{\\theta}}^{(C)}(\\mathbf{x}) = p(y =  C| \\mathbf{x} ; \\boldsymbol{\\theta}^{(C)}) \\newline\n",
    "& \\mathrm{prediction} = \\max_{c \\in \\{1,2,...C\\}}( h_{\\boldsymbol{\\theta}} ^{(c)}(\\mathbf{x}) )\\newline\n",
    "\\end{align*}\n",
    "\n",
    "We are basically choosing one class and then lumping all the others into a single second class. We do this repeatedly, applying binary logistic regression to each case, and then use the hypothesis that returned the highest value as our prediction.\n",
    "\n",
    "The following image shows how one could classify 3 classes:\n",
    "\n",
    "<img src=\"figures/one-vs-all.png\" alt=\"one-vs-all\" style=\"width: 600px;\"/>\n",
    "\n",
    "**To summarize**: Train a logistic regression classifier $h_{\\boldsymbol{\\theta}}(\\mathbf{x})$ for each class $c$ to predict the probability that $p(y = c)$. To make a prediction on a new $\\mathbf{x}$, pick the class that maximizes $h_{\\boldsymbol{\\theta}}(\\mathbf{x})$\n",
    "\n",
    "Although this seems like a great solution, it comes with several problems. First, the scale of the confidence score might be different for each of the binary classification models, which biases our overall prediction. However, even if that isn't the case, each of the binary classification models, see very unbalanced data distributions since, for each one, the negative class is the sum of all the other classes, besides the one that is currently marked for the positive class. \n",
    "\n",
    "A possible fix for this imbalance problem is the one-verse-one method. Here, instead of having a model for each class, there is a model for each binary combination of the classes. If there are $n$ classes, this means that there would be $n(n-1)/2$ models, so in the order of $n^2$. If we have four classes, that would be six models, but if we have a thousand classes, like in many image classification use cases, there would be 499,500 models. Each model essentially outputs a vote for its predicted label. Then all the votes are accumulated and the class that has the most wins. However, this doesn't fix the ambiguity problem for the possibility of having the same number of votes for different classes.\n",
    "\n",
    "## 6.2. Multinomial Logestic Regression (Softmax Regression)\n",
    "\n",
    "### Hypothesis Representation\n",
    "\n",
    "Softmax regression (or multinomial logistic regression) is a generalization of logistic regression to the case where we want to handle multiple classes. In logistic regression we assumed that the labels were binary: $y^{(i)}\\in\\{0,1\\}$. Softmax regression allows us to handle $y^{(i)}\\in\\{1,…,C\\}$ where C is the number of classes. Note that our convention will be to index the classes starting from 1, rather than from 0.\n",
    "\n",
    "Given an input $\\mathbf{x}$, we want our hypothesis to estimate the probability that $p(y=c|\\mathbf{x})$ for each value of $c=\\{1,…,C\\}$. I.e., we want to estimate the probability of the class label taking on each of the $C$ different possible values. Thus, our hypothesis will output a C-dimensional vector (whose elements sum to 1) giving us our $C$ estimated probabilities. Concretely, our hypothesis $\\mathbf{h}_{\\Theta}(x)$ takes the form (Notice that our hypothesis function is now written in bold to demonstrate it's a vector $\\mathbf{h}$):\n",
    "\n",
    "\\begin{equation}\n",
    "\\mathbf{h}_{\\Theta}(\\mathbf{x}) =\n",
    "\\begin{bmatrix}\n",
    "h_{{\\Theta}}^{(1)}(\\mathbf{x}) \\\\\n",
    "h_{{\\Theta}}^{(2)}(\\mathbf{x}) \\\\\n",
    "\\vdots \\\\\n",
    "h_{{\\Theta}}^{(C)}(\\mathbf{x}) \n",
    "\\end{bmatrix} =\n",
    "\\begin{bmatrix}\n",
    "p(y = 1 | \\mathbf{x}; {\\Theta}) \\\\\n",
    "p(y = 2 | \\mathbf{x}; {\\Theta}) \\\\\n",
    "\\vdots \\\\\n",
    "p(y = C | \\mathbf{x}; {\\Theta}) \n",
    "\\end{bmatrix} =\n",
    "\\frac{1}{ \\sum_{c=1}^{C}{e^{\\boldsymbol{\\theta}^{(c)\\top} \\mathbf{x}} }}\n",
    "\\begin{bmatrix}\n",
    "e^{\\boldsymbol{\\theta}^{(1)\\top} \\mathbf{x} } \\\\\n",
    "e^{\\boldsymbol{\\theta}^{(2)\\top} \\mathbf{x} } \\\\\n",
    "\\vdots \\\\\n",
    "e^{\\boldsymbol{\\theta}^{(C)\\top} \\mathbf{x} } \\\\\n",
    "\\end{bmatrix}\n",
    "\\end{equation}\n",
    "\n",
    "Here $\\boldsymbol{\\theta}^{(1)} , \\boldsymbol{\\theta}^{(2)}, ..., \\boldsymbol{\\theta}^{(C)} \\in \\mathbb{R}^n$ are the parameters of our model. Notice that the term $\\sum_{c=1}^{C} {e^{\\boldsymbol{\\theta}^{(c)\\top} \\mathbf{x}}}$ normalizes the distribution, so that it sums to one.\n",
    "\n",
    "For convenience, we will also write ${\\Theta}$ to denote all the parameters of our model. When you implement softmax regression, it is usually convenient to represent ${\\Theta}$ as a (n+1)-by-C matrix obtained by concatenating $\\boldsymbol{\\theta}^{(1)} , \\boldsymbol{\\theta}^{(2)}, ..., \\boldsymbol{\\theta}^{(C)} $ into columns, so that\n",
    "\n",
    "\\begin{equation}\n",
    "\\Theta = \\left[\\begin{array}{cccc}| & | & | & | \\\\\n",
    "\\boldsymbol{\\theta}^{(1)} & \\boldsymbol{\\theta}^{(2)} & \\cdots & \\boldsymbol{\\theta}^{(C)} \\\\\n",
    "| & | & | & |\n",
    "\\end{array}\\right].\n",
    "\\end{equation}\n",
    "\n",
    "### Cost Function\n",
    "We now describe the cost function that we’ll use for softmax regression. In the equation below, $\\mathbb{1}_{\\left\\{.\\right\\}}$ is the \"indicator function\", so that $\\mathbb{1}_{\\left\\{\\text{a true statement}\\right\\}}=1$, and $\\mathbb{1}_{\\left\\{\\text{a false statement}\\right\\}}$. For example, $\\mathbb{1}_{\\left\\{\\text{2+2=4}\\right\\}}$ evaluates to 1; whereas $\\mathbb{1}_{\\left\\{\\text{1+1=5}\\right\\}}$ evaluates to 0. Our cost function will be:\n",
    "\n",
    "\\begin{align}\n",
    "J(\\Theta) = - \\left[ \\sum_{i=1}^{m} \\sum_{c=1}^{C}  \\mathbb{1}_{\\left\\{y^{(i)} = c\\right\\}} \\log p(y^{(i)} = c | \\mathbf{x}^{(i)} ; \\Theta)\\right]\n",
    "\\end{align}\n",
    "\n",
    "Notice that this generalizes the logistic regression cost function, which could also have been written:\n",
    "\n",
    "\\begin{align}\n",
    "J(\\boldsymbol{\\theta}) &= - \\left[ \\sum_{i=1}^m   (1-y^{(i)}) \\log (1-h_\\boldsymbol{\\theta}(\\mathbf{x}^{(i)})) + y^{(i)} \\log h_\\boldsymbol{\\theta}(\\mathbf{x}^{(i)}) \\right] \\\\\n",
    "&= - \\left[ \\sum_{i=1}^{m} \\sum_{c=0}^{1} \\mathbb{1}_{\\left\\{y^{(i)} = c\\right\\}} \\log p(y^{(i)} = c | \\mathbf{x}^{(i)} ; \\boldsymbol{\\theta}) \\right]\n",
    "\\end{align}\n",
    "\n",
    "The softmax cost function is similar, except that we now sum over the C different possible values of the class label. Note also that in softmax regression, we have that\n",
    "\n",
    "$$\n",
    "p(y^{(i)} = c | \\mathbf{x}^{(i)} ; \\Theta) = \\frac{e^{\\boldsymbol{\\theta}^{(c)\\top} x^{(i)}}}{\\sum_{c^\\prime=1}^C e^{\\boldsymbol{\\theta}^{(c^\\prime)\\top} \\mathbf{x}^{(i)}} }\n",
    "$$\n",
    "\n",
    "\n"
   ]
  },
  {
   "cell_type": "markdown",
   "metadata": {},
   "source": [
    "# 7. Logistic Regression with Scikit-Learn\n",
    "\n",
    "## The dataset\n",
    "\n",
    "The dataset we'll be using contain the results of a virtual driving simulation of vehicles with an AD system. Based on the results of these simulations, we would like to predict for a new vehicle, whether the distance to the vehicle in front is respected and whether the safety distance is kept at all times, namely 2 seconds.\n",
    "\n",
    "This variable is therefore binary (Did the vehicle keep the safety distance? Yes or no). We call it a warning.\n",
    "\n",
    "The explanatory variables are called metadata. These are variables entered in the simulation scenario."
   ]
  },
  {
   "cell_type": "code",
   "execution_count": 33,
   "metadata": {},
   "outputs": [],
   "source": [
    "# Import Package\n",
    "import pandas as pd\n",
    "import numpy as np\n",
    "import seaborn as sns\n",
    "import matplotlib.pyplot as plt\n",
    "\n",
    "%matplotlib inline\n",
    "from sklearn import metrics\n",
    "from sklearn.linear_model import LogisticRegression\n",
    "from sklearn.model_selection import train_test_split, GridSearchCV"
   ]
  },
  {
   "cell_type": "markdown",
   "metadata": {},
   "source": [
    "Reading the data in csv using `pandas`"
   ]
  },
  {
   "cell_type": "code",
   "execution_count": 34,
   "metadata": {},
   "outputs": [
    {
     "name": "stdout",
     "output_type": "stream",
     "text": [
      "metadata dataset size (19992, 13)\n",
      "warnings dataset size (19990, 4)\n"
     ]
    }
   ],
   "source": [
    "metadata = pd.read_csv('Data/metadata.csv')\n",
    "warnings = pd.read_csv('Data/warnings.csv')\n",
    "print('metadata dataset size', str(metadata.shape))\n",
    "print('warnings dataset size', str(warnings.shape))"
   ]
  },
  {
   "cell_type": "code",
   "execution_count": 35,
   "metadata": {
    "scrolled": true
   },
   "outputs": [
    {
     "data": {
      "text/html": [
       "<div>\n",
       "<style scoped>\n",
       "    .dataframe tbody tr th:only-of-type {\n",
       "        vertical-align: middle;\n",
       "    }\n",
       "\n",
       "    .dataframe tbody tr th {\n",
       "        vertical-align: top;\n",
       "    }\n",
       "\n",
       "    .dataframe thead th {\n",
       "        text-align: right;\n",
       "    }\n",
       "</style>\n",
       "<table border=\"1\" class=\"dataframe\">\n",
       "  <thead>\n",
       "    <tr style=\"text-align: right;\">\n",
       "      <th></th>\n",
       "      <th>scenario_id</th>\n",
       "      <th>AccelDur_s</th>\n",
       "      <th>LaneWidth_m</th>\n",
       "      <th>PVSpeed_kmh</th>\n",
       "      <th>PVPosit_m</th>\n",
       "      <th>PVAccel_ms2</th>\n",
       "      <th>PVDecel_ms2</th>\n",
       "      <th>PVCar</th>\n",
       "      <th>PVBus</th>\n",
       "      <th>PVMoto</th>\n",
       "      <th>Slope-6</th>\n",
       "      <th>Slope0</th>\n",
       "      <th>Slop6</th>\n",
       "    </tr>\n",
       "  </thead>\n",
       "  <tbody>\n",
       "    <tr>\n",
       "      <th>0</th>\n",
       "      <td>5bc4920704c87d00012789f3</td>\n",
       "      <td>1.4</td>\n",
       "      <td>3.5</td>\n",
       "      <td>82.3</td>\n",
       "      <td>584.0</td>\n",
       "      <td>2.0</td>\n",
       "      <td>2.2</td>\n",
       "      <td>1</td>\n",
       "      <td>0</td>\n",
       "      <td>0</td>\n",
       "      <td>0</td>\n",
       "      <td>1</td>\n",
       "      <td>0</td>\n",
       "    </tr>\n",
       "    <tr>\n",
       "      <th>1</th>\n",
       "      <td>5bc4920704c87d00012789f4</td>\n",
       "      <td>1.9</td>\n",
       "      <td>3.5</td>\n",
       "      <td>97.3</td>\n",
       "      <td>563.0</td>\n",
       "      <td>1.5</td>\n",
       "      <td>2.8</td>\n",
       "      <td>1</td>\n",
       "      <td>0</td>\n",
       "      <td>0</td>\n",
       "      <td>0</td>\n",
       "      <td>1</td>\n",
       "      <td>0</td>\n",
       "    </tr>\n",
       "    <tr>\n",
       "      <th>2</th>\n",
       "      <td>5bc4920704c87d00012789f5</td>\n",
       "      <td>2.6</td>\n",
       "      <td>3.5</td>\n",
       "      <td>82.0</td>\n",
       "      <td>565.0</td>\n",
       "      <td>2.2</td>\n",
       "      <td>2.1</td>\n",
       "      <td>1</td>\n",
       "      <td>0</td>\n",
       "      <td>0</td>\n",
       "      <td>0</td>\n",
       "      <td>1</td>\n",
       "      <td>0</td>\n",
       "    </tr>\n",
       "    <tr>\n",
       "      <th>3</th>\n",
       "      <td>5bc4920704c87d00012789f6</td>\n",
       "      <td>1.8</td>\n",
       "      <td>3.5</td>\n",
       "      <td>83.3</td>\n",
       "      <td>687.0</td>\n",
       "      <td>2.2</td>\n",
       "      <td>1.2</td>\n",
       "      <td>1</td>\n",
       "      <td>0</td>\n",
       "      <td>0</td>\n",
       "      <td>0</td>\n",
       "      <td>1</td>\n",
       "      <td>0</td>\n",
       "    </tr>\n",
       "    <tr>\n",
       "      <th>4</th>\n",
       "      <td>5bc4920704c87d00012789f7</td>\n",
       "      <td>2.6</td>\n",
       "      <td>3.5</td>\n",
       "      <td>102.7</td>\n",
       "      <td>562.0</td>\n",
       "      <td>1.4</td>\n",
       "      <td>2.5</td>\n",
       "      <td>1</td>\n",
       "      <td>0</td>\n",
       "      <td>0</td>\n",
       "      <td>0</td>\n",
       "      <td>1</td>\n",
       "      <td>0</td>\n",
       "    </tr>\n",
       "  </tbody>\n",
       "</table>\n",
       "</div>"
      ],
      "text/plain": [
       "                scenario_id  AccelDur_s  LaneWidth_m  PVSpeed_kmh  PVPosit_m  \\\n",
       "0  5bc4920704c87d00012789f3         1.4          3.5         82.3      584.0   \n",
       "1  5bc4920704c87d00012789f4         1.9          3.5         97.3      563.0   \n",
       "2  5bc4920704c87d00012789f5         2.6          3.5         82.0      565.0   \n",
       "3  5bc4920704c87d00012789f6         1.8          3.5         83.3      687.0   \n",
       "4  5bc4920704c87d00012789f7         2.6          3.5        102.7      562.0   \n",
       "\n",
       "   PVAccel_ms2  PVDecel_ms2  PVCar  PVBus  PVMoto  Slope-6  Slope0  Slop6  \n",
       "0          2.0          2.2      1      0       0        0       1      0  \n",
       "1          1.5          2.8      1      0       0        0       1      0  \n",
       "2          2.2          2.1      1      0       0        0       1      0  \n",
       "3          2.2          1.2      1      0       0        0       1      0  \n",
       "4          1.4          2.5      1      0       0        0       1      0  "
      ]
     },
     "execution_count": 35,
     "metadata": {},
     "output_type": "execute_result"
    }
   ],
   "source": [
    "metadata.head()"
   ]
  },
  {
   "cell_type": "code",
   "execution_count": 36,
   "metadata": {},
   "outputs": [
    {
     "data": {
      "text/html": [
       "<div>\n",
       "<style scoped>\n",
       "    .dataframe tbody tr th:only-of-type {\n",
       "        vertical-align: middle;\n",
       "    }\n",
       "\n",
       "    .dataframe tbody tr th {\n",
       "        vertical-align: top;\n",
       "    }\n",
       "\n",
       "    .dataframe thead th {\n",
       "        text-align: right;\n",
       "    }\n",
       "</style>\n",
       "<table border=\"1\" class=\"dataframe\">\n",
       "  <thead>\n",
       "    <tr style=\"text-align: right;\">\n",
       "      <th></th>\n",
       "      <th>scenario_id</th>\n",
       "      <th>longitudinal_deceleration</th>\n",
       "      <th>safety_distance_m</th>\n",
       "      <th>safety_distance_s</th>\n",
       "    </tr>\n",
       "  </thead>\n",
       "  <tbody>\n",
       "    <tr>\n",
       "      <th>0</th>\n",
       "      <td>5bc4920704c87d00012789f3</td>\n",
       "      <td>1.0</td>\n",
       "      <td>0.0</td>\n",
       "      <td>0.0</td>\n",
       "    </tr>\n",
       "    <tr>\n",
       "      <th>1</th>\n",
       "      <td>5bc4920704c87d00012789f4</td>\n",
       "      <td>0.0</td>\n",
       "      <td>1.0</td>\n",
       "      <td>1.0</td>\n",
       "    </tr>\n",
       "    <tr>\n",
       "      <th>2</th>\n",
       "      <td>5bc4920704c87d00012789f5</td>\n",
       "      <td>1.0</td>\n",
       "      <td>0.0</td>\n",
       "      <td>0.0</td>\n",
       "    </tr>\n",
       "    <tr>\n",
       "      <th>3</th>\n",
       "      <td>5bc4920704c87d00012789f6</td>\n",
       "      <td>1.0</td>\n",
       "      <td>0.0</td>\n",
       "      <td>0.0</td>\n",
       "    </tr>\n",
       "    <tr>\n",
       "      <th>4</th>\n",
       "      <td>5bc4920704c87d00012789f7</td>\n",
       "      <td>0.0</td>\n",
       "      <td>1.0</td>\n",
       "      <td>1.0</td>\n",
       "    </tr>\n",
       "  </tbody>\n",
       "</table>\n",
       "</div>"
      ],
      "text/plain": [
       "                scenario_id  longitudinal_deceleration  safety_distance_m  \\\n",
       "0  5bc4920704c87d00012789f3                        1.0                0.0   \n",
       "1  5bc4920704c87d00012789f4                        0.0                1.0   \n",
       "2  5bc4920704c87d00012789f5                        1.0                0.0   \n",
       "3  5bc4920704c87d00012789f6                        1.0                0.0   \n",
       "4  5bc4920704c87d00012789f7                        0.0                1.0   \n",
       "\n",
       "   safety_distance_s  \n",
       "0                0.0  \n",
       "1                1.0  \n",
       "2                0.0  \n",
       "3                0.0  \n",
       "4                1.0  "
      ]
     },
     "execution_count": 36,
     "metadata": {},
     "output_type": "execute_result"
    }
   ],
   "source": [
    "warnings.head()"
   ]
  },
  {
   "cell_type": "markdown",
   "metadata": {},
   "source": [
    "From `warnings` dataframe, we will only keep \"safety_distance_s\"."
   ]
  },
  {
   "cell_type": "code",
   "execution_count": 37,
   "metadata": {},
   "outputs": [],
   "source": [
    "warnings = warnings[[\"scenario_id\",\"safety_distance_s\"]]"
   ]
  },
  {
   "cell_type": "markdown",
   "metadata": {},
   "source": [
    "Let's join the dataframes together using the common key `scenario_id`"
   ]
  },
  {
   "cell_type": "code",
   "execution_count": 38,
   "metadata": {},
   "outputs": [],
   "source": [
    "df = metadata.merge(warnings, left_on='scenario_id', right_on='scenario_id')\n",
    "df = df.set_index('scenario_id')"
   ]
  },
  {
   "cell_type": "code",
   "execution_count": 39,
   "metadata": {},
   "outputs": [
    {
     "data": {
      "text/html": [
       "<div>\n",
       "<style scoped>\n",
       "    .dataframe tbody tr th:only-of-type {\n",
       "        vertical-align: middle;\n",
       "    }\n",
       "\n",
       "    .dataframe tbody tr th {\n",
       "        vertical-align: top;\n",
       "    }\n",
       "\n",
       "    .dataframe thead th {\n",
       "        text-align: right;\n",
       "    }\n",
       "</style>\n",
       "<table border=\"1\" class=\"dataframe\">\n",
       "  <thead>\n",
       "    <tr style=\"text-align: right;\">\n",
       "      <th></th>\n",
       "      <th>AccelDur_s</th>\n",
       "      <th>LaneWidth_m</th>\n",
       "      <th>PVSpeed_kmh</th>\n",
       "      <th>PVPosit_m</th>\n",
       "      <th>PVAccel_ms2</th>\n",
       "      <th>PVDecel_ms2</th>\n",
       "      <th>PVCar</th>\n",
       "      <th>PVBus</th>\n",
       "      <th>PVMoto</th>\n",
       "      <th>Slope-6</th>\n",
       "      <th>Slope0</th>\n",
       "      <th>Slop6</th>\n",
       "      <th>safety_distance_s</th>\n",
       "    </tr>\n",
       "    <tr>\n",
       "      <th>scenario_id</th>\n",
       "      <th></th>\n",
       "      <th></th>\n",
       "      <th></th>\n",
       "      <th></th>\n",
       "      <th></th>\n",
       "      <th></th>\n",
       "      <th></th>\n",
       "      <th></th>\n",
       "      <th></th>\n",
       "      <th></th>\n",
       "      <th></th>\n",
       "      <th></th>\n",
       "      <th></th>\n",
       "    </tr>\n",
       "  </thead>\n",
       "  <tbody>\n",
       "    <tr>\n",
       "      <th>5bc4920704c87d00012789f3</th>\n",
       "      <td>1.4</td>\n",
       "      <td>3.5</td>\n",
       "      <td>82.3</td>\n",
       "      <td>584.0</td>\n",
       "      <td>2.0</td>\n",
       "      <td>2.2</td>\n",
       "      <td>1</td>\n",
       "      <td>0</td>\n",
       "      <td>0</td>\n",
       "      <td>0</td>\n",
       "      <td>1</td>\n",
       "      <td>0</td>\n",
       "      <td>0.0</td>\n",
       "    </tr>\n",
       "    <tr>\n",
       "      <th>5bc4920704c87d00012789f4</th>\n",
       "      <td>1.9</td>\n",
       "      <td>3.5</td>\n",
       "      <td>97.3</td>\n",
       "      <td>563.0</td>\n",
       "      <td>1.5</td>\n",
       "      <td>2.8</td>\n",
       "      <td>1</td>\n",
       "      <td>0</td>\n",
       "      <td>0</td>\n",
       "      <td>0</td>\n",
       "      <td>1</td>\n",
       "      <td>0</td>\n",
       "      <td>1.0</td>\n",
       "    </tr>\n",
       "    <tr>\n",
       "      <th>5bc4920704c87d00012789f5</th>\n",
       "      <td>2.6</td>\n",
       "      <td>3.5</td>\n",
       "      <td>82.0</td>\n",
       "      <td>565.0</td>\n",
       "      <td>2.2</td>\n",
       "      <td>2.1</td>\n",
       "      <td>1</td>\n",
       "      <td>0</td>\n",
       "      <td>0</td>\n",
       "      <td>0</td>\n",
       "      <td>1</td>\n",
       "      <td>0</td>\n",
       "      <td>0.0</td>\n",
       "    </tr>\n",
       "    <tr>\n",
       "      <th>5bc4920704c87d00012789f6</th>\n",
       "      <td>1.8</td>\n",
       "      <td>3.5</td>\n",
       "      <td>83.3</td>\n",
       "      <td>687.0</td>\n",
       "      <td>2.2</td>\n",
       "      <td>1.2</td>\n",
       "      <td>1</td>\n",
       "      <td>0</td>\n",
       "      <td>0</td>\n",
       "      <td>0</td>\n",
       "      <td>1</td>\n",
       "      <td>0</td>\n",
       "      <td>0.0</td>\n",
       "    </tr>\n",
       "    <tr>\n",
       "      <th>5bc4920704c87d00012789f7</th>\n",
       "      <td>2.6</td>\n",
       "      <td>3.5</td>\n",
       "      <td>102.7</td>\n",
       "      <td>562.0</td>\n",
       "      <td>1.4</td>\n",
       "      <td>2.5</td>\n",
       "      <td>1</td>\n",
       "      <td>0</td>\n",
       "      <td>0</td>\n",
       "      <td>0</td>\n",
       "      <td>1</td>\n",
       "      <td>0</td>\n",
       "      <td>1.0</td>\n",
       "    </tr>\n",
       "  </tbody>\n",
       "</table>\n",
       "</div>"
      ],
      "text/plain": [
       "                          AccelDur_s  LaneWidth_m  PVSpeed_kmh  PVPosit_m  \\\n",
       "scenario_id                                                                 \n",
       "5bc4920704c87d00012789f3         1.4          3.5         82.3      584.0   \n",
       "5bc4920704c87d00012789f4         1.9          3.5         97.3      563.0   \n",
       "5bc4920704c87d00012789f5         2.6          3.5         82.0      565.0   \n",
       "5bc4920704c87d00012789f6         1.8          3.5         83.3      687.0   \n",
       "5bc4920704c87d00012789f7         2.6          3.5        102.7      562.0   \n",
       "\n",
       "                          PVAccel_ms2  PVDecel_ms2  PVCar  PVBus  PVMoto  \\\n",
       "scenario_id                                                                \n",
       "5bc4920704c87d00012789f3          2.0          2.2      1      0       0   \n",
       "5bc4920704c87d00012789f4          1.5          2.8      1      0       0   \n",
       "5bc4920704c87d00012789f5          2.2          2.1      1      0       0   \n",
       "5bc4920704c87d00012789f6          2.2          1.2      1      0       0   \n",
       "5bc4920704c87d00012789f7          1.4          2.5      1      0       0   \n",
       "\n",
       "                          Slope-6  Slope0  Slop6  safety_distance_s  \n",
       "scenario_id                                                          \n",
       "5bc4920704c87d00012789f3        0       1      0                0.0  \n",
       "5bc4920704c87d00012789f4        0       1      0                1.0  \n",
       "5bc4920704c87d00012789f5        0       1      0                0.0  \n",
       "5bc4920704c87d00012789f6        0       1      0                0.0  \n",
       "5bc4920704c87d00012789f7        0       1      0                1.0  "
      ]
     },
     "execution_count": 39,
     "metadata": {},
     "output_type": "execute_result"
    }
   ],
   "source": [
    "#verification merge\n",
    "df.head()"
   ]
  },
  {
   "cell_type": "code",
   "execution_count": 40,
   "metadata": {},
   "outputs": [
    {
     "data": {
      "text/plain": [
       "(19990, 13)"
      ]
     },
     "execution_count": 40,
     "metadata": {},
     "output_type": "execute_result"
    }
   ],
   "source": [
    "df.shape"
   ]
  },
  {
   "cell_type": "markdown",
   "metadata": {},
   "source": [
    "The **describe()** method is used for calculating some statistical data like percentile, mean and std of the numerical values of the Series or DataFrame. It analyzes both numeric and object series and also the DataFrame column sets of mixed data types."
   ]
  },
  {
   "cell_type": "code",
   "execution_count": 41,
   "metadata": {},
   "outputs": [
    {
     "data": {
      "text/html": [
       "<div>\n",
       "<style scoped>\n",
       "    .dataframe tbody tr th:only-of-type {\n",
       "        vertical-align: middle;\n",
       "    }\n",
       "\n",
       "    .dataframe tbody tr th {\n",
       "        vertical-align: top;\n",
       "    }\n",
       "\n",
       "    .dataframe thead th {\n",
       "        text-align: right;\n",
       "    }\n",
       "</style>\n",
       "<table border=\"1\" class=\"dataframe\">\n",
       "  <thead>\n",
       "    <tr style=\"text-align: right;\">\n",
       "      <th></th>\n",
       "      <th>AccelDur_s</th>\n",
       "      <th>LaneWidth_m</th>\n",
       "      <th>PVSpeed_kmh</th>\n",
       "      <th>PVPosit_m</th>\n",
       "      <th>PVAccel_ms2</th>\n",
       "      <th>PVDecel_ms2</th>\n",
       "      <th>PVCar</th>\n",
       "      <th>PVBus</th>\n",
       "      <th>PVMoto</th>\n",
       "      <th>Slope-6</th>\n",
       "      <th>Slope0</th>\n",
       "      <th>Slop6</th>\n",
       "      <th>safety_distance_s</th>\n",
       "    </tr>\n",
       "  </thead>\n",
       "  <tbody>\n",
       "    <tr>\n",
       "      <th>count</th>\n",
       "      <td>19990.000000</td>\n",
       "      <td>19990.000000</td>\n",
       "      <td>19990.000000</td>\n",
       "      <td>19990.000000</td>\n",
       "      <td>19990.000000</td>\n",
       "      <td>19990.000000</td>\n",
       "      <td>19990.000000</td>\n",
       "      <td>19990.000000</td>\n",
       "      <td>19990.000000</td>\n",
       "      <td>19990.000000</td>\n",
       "      <td>19990.000000</td>\n",
       "      <td>19990.000000</td>\n",
       "      <td>19990.000000</td>\n",
       "    </tr>\n",
       "    <tr>\n",
       "      <th>mean</th>\n",
       "      <td>2.523307</td>\n",
       "      <td>3.199970</td>\n",
       "      <td>85.232131</td>\n",
       "      <td>610.019210</td>\n",
       "      <td>1.995908</td>\n",
       "      <td>1.498624</td>\n",
       "      <td>0.333317</td>\n",
       "      <td>0.333317</td>\n",
       "      <td>0.333367</td>\n",
       "      <td>0.250025</td>\n",
       "      <td>0.249975</td>\n",
       "      <td>0.249975</td>\n",
       "      <td>0.469485</td>\n",
       "    </tr>\n",
       "    <tr>\n",
       "      <th>std</th>\n",
       "      <td>1.448339</td>\n",
       "      <td>0.300008</td>\n",
       "      <td>14.469862</td>\n",
       "      <td>56.911916</td>\n",
       "      <td>0.578122</td>\n",
       "      <td>0.868606</td>\n",
       "      <td>0.471410</td>\n",
       "      <td>0.471410</td>\n",
       "      <td>0.471428</td>\n",
       "      <td>0.433038</td>\n",
       "      <td>0.433009</td>\n",
       "      <td>0.433009</td>\n",
       "      <td>0.499080</td>\n",
       "    </tr>\n",
       "    <tr>\n",
       "      <th>min</th>\n",
       "      <td>0.000000</td>\n",
       "      <td>2.900000</td>\n",
       "      <td>60.000000</td>\n",
       "      <td>508.000000</td>\n",
       "      <td>1.000000</td>\n",
       "      <td>0.000000</td>\n",
       "      <td>0.000000</td>\n",
       "      <td>0.000000</td>\n",
       "      <td>0.000000</td>\n",
       "      <td>0.000000</td>\n",
       "      <td>0.000000</td>\n",
       "      <td>0.000000</td>\n",
       "      <td>0.000000</td>\n",
       "    </tr>\n",
       "    <tr>\n",
       "      <th>25%</th>\n",
       "      <td>1.300000</td>\n",
       "      <td>2.900000</td>\n",
       "      <td>72.700000</td>\n",
       "      <td>561.000000</td>\n",
       "      <td>1.500000</td>\n",
       "      <td>0.700000</td>\n",
       "      <td>0.000000</td>\n",
       "      <td>0.000000</td>\n",
       "      <td>0.000000</td>\n",
       "      <td>0.000000</td>\n",
       "      <td>0.000000</td>\n",
       "      <td>0.000000</td>\n",
       "      <td>0.000000</td>\n",
       "    </tr>\n",
       "    <tr>\n",
       "      <th>50%</th>\n",
       "      <td>2.500000</td>\n",
       "      <td>2.900000</td>\n",
       "      <td>85.400000</td>\n",
       "      <td>610.000000</td>\n",
       "      <td>2.000000</td>\n",
       "      <td>1.500000</td>\n",
       "      <td>0.000000</td>\n",
       "      <td>0.000000</td>\n",
       "      <td>0.000000</td>\n",
       "      <td>0.000000</td>\n",
       "      <td>0.000000</td>\n",
       "      <td>0.000000</td>\n",
       "      <td>0.000000</td>\n",
       "    </tr>\n",
       "    <tr>\n",
       "      <th>75%</th>\n",
       "      <td>3.800000</td>\n",
       "      <td>3.500000</td>\n",
       "      <td>97.700000</td>\n",
       "      <td>659.000000</td>\n",
       "      <td>2.500000</td>\n",
       "      <td>2.300000</td>\n",
       "      <td>1.000000</td>\n",
       "      <td>1.000000</td>\n",
       "      <td>1.000000</td>\n",
       "      <td>0.750000</td>\n",
       "      <td>0.000000</td>\n",
       "      <td>0.000000</td>\n",
       "      <td>1.000000</td>\n",
       "    </tr>\n",
       "    <tr>\n",
       "      <th>max</th>\n",
       "      <td>5.000000</td>\n",
       "      <td>3.500000</td>\n",
       "      <td>110.000000</td>\n",
       "      <td>712.000000</td>\n",
       "      <td>3.000000</td>\n",
       "      <td>3.000000</td>\n",
       "      <td>1.000000</td>\n",
       "      <td>1.000000</td>\n",
       "      <td>1.000000</td>\n",
       "      <td>1.000000</td>\n",
       "      <td>1.000000</td>\n",
       "      <td>1.000000</td>\n",
       "      <td>1.000000</td>\n",
       "    </tr>\n",
       "  </tbody>\n",
       "</table>\n",
       "</div>"
      ],
      "text/plain": [
       "         AccelDur_s   LaneWidth_m   PVSpeed_kmh     PVPosit_m   PVAccel_ms2  \\\n",
       "count  19990.000000  19990.000000  19990.000000  19990.000000  19990.000000   \n",
       "mean       2.523307      3.199970     85.232131    610.019210      1.995908   \n",
       "std        1.448339      0.300008     14.469862     56.911916      0.578122   \n",
       "min        0.000000      2.900000     60.000000    508.000000      1.000000   \n",
       "25%        1.300000      2.900000     72.700000    561.000000      1.500000   \n",
       "50%        2.500000      2.900000     85.400000    610.000000      2.000000   \n",
       "75%        3.800000      3.500000     97.700000    659.000000      2.500000   \n",
       "max        5.000000      3.500000    110.000000    712.000000      3.000000   \n",
       "\n",
       "        PVDecel_ms2         PVCar         PVBus        PVMoto       Slope-6  \\\n",
       "count  19990.000000  19990.000000  19990.000000  19990.000000  19990.000000   \n",
       "mean       1.498624      0.333317      0.333317      0.333367      0.250025   \n",
       "std        0.868606      0.471410      0.471410      0.471428      0.433038   \n",
       "min        0.000000      0.000000      0.000000      0.000000      0.000000   \n",
       "25%        0.700000      0.000000      0.000000      0.000000      0.000000   \n",
       "50%        1.500000      0.000000      0.000000      0.000000      0.000000   \n",
       "75%        2.300000      1.000000      1.000000      1.000000      0.750000   \n",
       "max        3.000000      1.000000      1.000000      1.000000      1.000000   \n",
       "\n",
       "             Slope0         Slop6  safety_distance_s  \n",
       "count  19990.000000  19990.000000       19990.000000  \n",
       "mean       0.249975      0.249975           0.469485  \n",
       "std        0.433009      0.433009           0.499080  \n",
       "min        0.000000      0.000000           0.000000  \n",
       "25%        0.000000      0.000000           0.000000  \n",
       "50%        0.000000      0.000000           0.000000  \n",
       "75%        0.000000      0.000000           1.000000  \n",
       "max        1.000000      1.000000           1.000000  "
      ]
     },
     "execution_count": 41,
     "metadata": {},
     "output_type": "execute_result"
    }
   ],
   "source": [
    "df.describe()"
   ]
  },
  {
   "cell_type": "markdown",
   "metadata": {},
   "source": [
    "## Data preparation: splitting data into training and test sets\n",
    "\n",
    "We will start by preparing the data:\n",
    "    1. Creation of X and y\n",
    "    2. Splitting the data into training and test sets"
   ]
  },
  {
   "cell_type": "code",
   "execution_count": 42,
   "metadata": {},
   "outputs": [],
   "source": [
    "# X: explanatory variables / y: variable to predict\n",
    "X = df.drop('safety_distance_s', axis=1)\n",
    "y = df[[\"safety_distance_s\"]]"
   ]
  },
  {
   "cell_type": "code",
   "execution_count": 43,
   "metadata": {},
   "outputs": [],
   "source": [
    "#Création des sets d'apprentissage et de test\n",
    "X_train, X_test, y_train, y_test = train_test_split(X, y, test_size=0.3, random_state=42)"
   ]
  },
  {
   "cell_type": "markdown",
   "metadata": {},
   "source": [
    "## Model training"
   ]
  },
  {
   "cell_type": "markdown",
   "metadata": {},
   "source": [
    "Let's define our LogesticRegression, and fit it using the training set.\n",
    "\n",
    "The Logestic Regression model on `scikit-learn` has a number of arguments, let's list some of them:\n",
    "\n",
    "* **penalty**: {‘l1’, ‘l2’, ‘elasticnet’, ‘none’}, default=’l2’: Used to specify the norm used in the regularization penalization.\n",
    "* **C**: float, default=1.0: Inverse of regularization strength; must be a positive float. Smaller values specify stronger regularization.\n",
    "* **l1_ratio**: float, default=None:  The Elastic-Net mixing parameter, with 0 <= l1_ratio <= 1. Only used if penalty='elasticnet'.\n",
    "* **fit_intercept**: bool, default=True: Specifies if a constant (a.k.a. bias or intercept $\\theta_0$) should be added to the decision function.\n",
    "* **solver**: {‘newton-cg’, ‘lbfgs’, ‘liblinear’, ‘sag’, ‘saga’}, default=’lbfgs’: Optimization algorithm to use in the optimization problem.\n",
    "* **random_state**: int, RandomState instance, default=None: The seed of the pseudo random number generator to use when shuffling the data. "
   ]
  },
  {
   "cell_type": "code",
   "execution_count": 61,
   "metadata": {
    "scrolled": true
   },
   "outputs": [
    {
     "data": {
      "text/plain": [
       "GridSearchCV(cv=5, error_score=nan,\n",
       "             estimator=LogisticRegression(C=1.0, class_weight=None, dual=False,\n",
       "                                          fit_intercept=True,\n",
       "                                          intercept_scaling=1, l1_ratio=None,\n",
       "                                          max_iter=100, multi_class='auto',\n",
       "                                          n_jobs=None, penalty='l2',\n",
       "                                          random_state=42, solver='lbfgs',\n",
       "                                          tol=0.0001, verbose=0,\n",
       "                                          warm_start=False),\n",
       "             iid='deprecated', n_jobs=None,\n",
       "             param_grid={'C': [0.001, 0.01, 0.02, 0.03, 0.05, 0.08, 0.1, 0.2,\n",
       "                               0.3, 0.5, 1, 10],\n",
       "                         'penalty': ['l1', 'l2', 'none']},\n",
       "             pre_dispatch='2*n_jobs', refit=True, return_train_score=False,\n",
       "             scoring='accuracy', verbose=0)"
      ]
     },
     "execution_count": 61,
     "metadata": {},
     "output_type": "execute_result"
    }
   ],
   "source": [
    "## training the model\n",
    "## Let tune the 'penalty' and 'C' hyperparameters\n",
    "param_grid = {'penalty': ['l1', 'l2', 'none'],\n",
    "              'C': [0.001, 0.01, 0.02, 0.03, 0.05, 0.08, 0.1, 0.2, 0.3, 0.5, 1, 10]}\n",
    "\n",
    "logR = LogisticRegression(random_state=42, fit_intercept=True)\n",
    "search = GridSearchCV(logR, param_grid, scoring='accuracy', cv=5)\n",
    "search.fit(X_train, y_train)"
   ]
  },
  {
   "cell_type": "markdown",
   "metadata": {},
   "source": [
    "The attribute \"coef_\" allows us to list the coefficients $\\theta_1$, $\\theta_2$, ... $\\theta_{12}$ of our 12 features."
   ]
  },
  {
   "cell_type": "code",
   "execution_count": 71,
   "metadata": {},
   "outputs": [
    {
     "name": "stdout",
     "output_type": "stream",
     "text": [
      "LogisticRegression(C=0.03, class_weight=None, dual=False, fit_intercept=True,\n",
      "                   intercept_scaling=1, l1_ratio=None, max_iter=100,\n",
      "                   multi_class='auto', n_jobs=None, penalty='l2',\n",
      "                   random_state=42, solver='lbfgs', tol=0.0001, verbose=0,\n",
      "                   warm_start=False)\n"
     ]
    }
   ],
   "source": [
    "logR = search.best_estimator_\n",
    "print(logR)"
   ]
  },
  {
   "cell_type": "code",
   "execution_count": 63,
   "metadata": {},
   "outputs": [
    {
     "data": {
      "text/plain": [
       "array([[ 0.07580927,  1.41879654,  0.03301151, -0.01501184, -1.17196083,\n",
       "         1.20249636,  0.05403447,  1.35385761,  0.01417974, -0.43617967,\n",
       "        -0.45736431,  0.20509376]])"
      ]
     },
     "execution_count": 63,
     "metadata": {},
     "output_type": "execute_result"
    }
   ],
   "source": [
    "logR.coef_"
   ]
  },
  {
   "cell_type": "markdown",
   "metadata": {},
   "source": [
    "We can also get our intercept $\\theta_0$ with the attribute \"intercept_\"."
   ]
  },
  {
   "cell_type": "code",
   "execution_count": 64,
   "metadata": {},
   "outputs": [
    {
     "data": {
      "text/plain": [
       "array([1.63172657])"
      ]
     },
     "execution_count": 64,
     "metadata": {},
     "output_type": "execute_result"
    }
   ],
   "source": [
    "logR.intercept_"
   ]
  },
  {
   "cell_type": "markdown",
   "metadata": {},
   "source": [
    "## Model predictions"
   ]
  },
  {
   "cell_type": "code",
   "execution_count": 67,
   "metadata": {},
   "outputs": [],
   "source": [
    "# predicting over training & testing datasets\n",
    "y_train_pred = logR.predict(X_train)\n",
    "y_test_pred = logR.predict(X_test)"
   ]
  },
  {
   "cell_type": "markdown",
   "metadata": {},
   "source": [
    "Printing the first 10 predictions:"
   ]
  },
  {
   "cell_type": "code",
   "execution_count": 68,
   "metadata": {},
   "outputs": [
    {
     "data": {
      "text/plain": [
       "array([0., 1., 0., 1., 1., 0., 1., 0., 0., 1.])"
      ]
     },
     "execution_count": 68,
     "metadata": {},
     "output_type": "execute_result"
    }
   ],
   "source": [
    "y_test_pred[:10]"
   ]
  },
  {
   "cell_type": "markdown",
   "metadata": {},
   "source": [
    "##  Model evaluation "
   ]
  },
  {
   "cell_type": "markdown",
   "metadata": {},
   "source": [
    "### Accuracy"
   ]
  },
  {
   "cell_type": "markdown",
   "metadata": {},
   "source": [
    "There are other ways of measuring model performance (precision, recall, F1 Score, ROC Curve, etc). The accuracy is very simple to obtain. To get the mean accuracy on the given training dataset, we can use the method `score`:"
   ]
  },
  {
   "cell_type": "code",
   "execution_count": 69,
   "metadata": {},
   "outputs": [
    {
     "data": {
      "text/plain": [
       "0.7695276209533338"
      ]
     },
     "execution_count": 69,
     "metadata": {},
     "output_type": "execute_result"
    }
   ],
   "source": [
    "logR.score(X_train, y_train)"
   ]
  },
  {
   "cell_type": "markdown",
   "metadata": {},
   "source": [
    "To get the mean accuracy on the given test dataset, we can also use the method `score`:"
   ]
  },
  {
   "cell_type": "code",
   "execution_count": 70,
   "metadata": {},
   "outputs": [
    {
     "data": {
      "text/plain": [
       "0.7907286976821745"
      ]
     },
     "execution_count": 70,
     "metadata": {},
     "output_type": "execute_result"
    }
   ],
   "source": [
    "logR.score(X_test, y_test)"
   ]
  },
  {
   "cell_type": "markdown",
   "metadata": {},
   "source": [
    "### Confusion Matrix"
   ]
  },
  {
   "cell_type": "code",
   "execution_count": 72,
   "metadata": {},
   "outputs": [
    {
     "data": {
      "text/plain": [
       "array([[2624,  586],\n",
       "       [ 669, 2118]])"
      ]
     },
     "execution_count": 72,
     "metadata": {},
     "output_type": "execute_result"
    }
   ],
   "source": [
    "metrics.confusion_matrix(y_test, y_test_pred)"
   ]
  },
  {
   "cell_type": "markdown",
   "metadata": {},
   "source": [
    "`scikit-learn` also offers a nice function to plot the confusion matrix."
   ]
  },
  {
   "cell_type": "code",
   "execution_count": 73,
   "metadata": {},
   "outputs": [
    {
     "data": {
      "text/plain": [
       "<sklearn.metrics._plot.confusion_matrix.ConfusionMatrixDisplay at 0x12b343790>"
      ]
     },
     "execution_count": 73,
     "metadata": {},
     "output_type": "execute_result"
    },
    {
     "data": {
      "image/png": "[encoded data removed]",
      "text/plain": [
       "<Figure size 432x288 with 2 Axes>"
      ]
     },
     "metadata": {
      "needs_background": "light"
     },
     "output_type": "display_data"
    }
   ],
   "source": [
    "metrics.plot_confusion_matrix(logR, X_test, y_test)"
   ]
  },
  {
   "cell_type": "markdown",
   "metadata": {},
   "source": [
    "### Recall\n",
    "\n",
    "The recall of each class:"
   ]
  },
  {
   "cell_type": "code",
   "execution_count": 74,
   "metadata": {
    "scrolled": true
   },
   "outputs": [
    {
     "data": {
      "text/plain": [
       "array([0.81744548, 0.75995694])"
      ]
     },
     "execution_count": 74,
     "metadata": {},
     "output_type": "execute_result"
    }
   ],
   "source": [
    "metrics.recall_score(y_test, y_test_pred, average=None)"
   ]
  },
  {
   "cell_type": "markdown",
   "metadata": {},
   "source": [
    "### Precision\n",
    "\n",
    "The precision of each class:"
   ]
  },
  {
   "cell_type": "code",
   "execution_count": 75,
   "metadata": {},
   "outputs": [
    {
     "data": {
      "text/plain": [
       "array([0.79684179, 0.78328402])"
      ]
     },
     "execution_count": 75,
     "metadata": {},
     "output_type": "execute_result"
    }
   ],
   "source": [
    "metrics.precision_score(y_test, y_test_pred, average=None)"
   ]
  },
  {
   "cell_type": "markdown",
   "metadata": {},
   "source": [
    "### F1score\n",
    "\n",
    "The f1score of each class:"
   ]
  },
  {
   "cell_type": "code",
   "execution_count": 76,
   "metadata": {},
   "outputs": [
    {
     "data": {
      "text/plain": [
       "array([0.80701215, 0.77144418])"
      ]
     },
     "execution_count": 76,
     "metadata": {},
     "output_type": "execute_result"
    }
   ],
   "source": [
    "metrics.f1_score(y_test, y_test_pred, average=None)"
   ]
  },
  {
   "cell_type": "markdown",
   "metadata": {},
   "source": [
    "### Receiver Operating Characteristic - AUC\n",
    "\n",
    "In able to plot ROC or evaluate AUC, we need the probability outputs of our model instead of the final prediction.\n",
    "\n",
    "We call the `predict_proba` method rather than `predict` in order to obtain a list of probabilities which represent the likelihood that a sample falls under a given category. "
   ]
  },
  {
   "cell_type": "code",
   "execution_count": 77,
   "metadata": {},
   "outputs": [],
   "source": [
    "probs = logR.predict_proba(X_test)\n",
    "malignant_probs = probs[:,1]\n",
    "\n",
    "# calculating roc arguments\n",
    "fpr, tpr, thresholds = metrics.roc_curve(y_test, malignant_probs)\n",
    "# calculating auc\n",
    "roc_auc = metrics.auc(fpr, tpr)"
   ]
  },
  {
   "cell_type": "code",
   "execution_count": 78,
   "metadata": {},
   "outputs": [
    {
     "data": {
      "image/png": "[encoded data removed]",
      "text/plain": [
       "<Figure size 576x432 with 1 Axes>"
      ]
     },
     "metadata": {
      "needs_background": "light"
     },
     "output_type": "display_data"
    }
   ],
   "source": [
    "plt.figure(figsize=[8,6])\n",
    "plt.title('Receiver Operating Characteristic')\n",
    "plt.plot(fpr, tpr, 'y', label = 'AUC = %0.2f' % roc_auc)\n",
    "plt.legend(loc = 'lower right')\n",
    "plt.plot([0, 1], [0, 1],'r--')\n",
    "plt.xlim([0, 1])\n",
    "plt.ylim([0, 1])\n",
    "plt.ylabel('True Positive Rate')\n",
    "plt.xlabel('False Positive Rate')\n",
    "plt.show()"
   ]
  },
  {
   "cell_type": "markdown",
   "metadata": {},
   "source": [
    "# References\n",
    "\n",
    "Stanford, UFLDL Tutorial. (2013, 26 Sep). Deep Learning Tutorial: Softmax Regression. Retrieved from http://deeplearning.stanford.edu/tutorial/supervised/SoftmaxRegression/.\n",
    "\n",
    "\n"
   ]
  }
 ],
 "metadata": {
  "kernelspec": {
   "display_name": "Python 3",
   "language": "python",
   "name": "python3"
  },
  "language_info": {
   "codemirror_mode": {
    "name": "ipython",
    "version": 3
   },
   "file_extension": ".py",
   "mimetype": "text/x-python",
   "name": "python",
   "nbconvert_exporter": "python",
   "pygments_lexer": "ipython3",
   "version": "3.7.7"
  }
 },
 "nbformat": 4,
 "nbformat_minor": 2
}
