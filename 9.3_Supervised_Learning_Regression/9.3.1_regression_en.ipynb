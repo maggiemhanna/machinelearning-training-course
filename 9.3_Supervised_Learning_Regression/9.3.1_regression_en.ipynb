{
 "cells": [
  {
   "cell_type": "code",
   "execution_count": 1,
   "metadata": {},
   "outputs": [],
   "source": [
    "import warnings\n",
    "warnings.filterwarnings('ignore')"
   ]
  },
  {
   "cell_type": "markdown",
   "metadata": {},
   "source": [
    "# 1. Multivariate Linear Regression\n",
    "\n",
    "Multivariate linear regression is linear regression with multiple variables.\n",
    "\n",
    "Before we start let's introduce notation for equations where we can have any number of input variables.\n",
    "\n",
    "\\begin{align*}x_j^{(i)} &= \\text{value of feature } j \\text{ in the }i^{th}\\text{ training example} \\newline x^{(i)}& = \\text{the input (features) of the }i^{th}\\text{ training example} \\newline m &= \\text{the number of training examples} \\newline n &= \\text{the number of features} \\end{align*}\n",
    "\n",
    "The multivariable form of the hypothesis function accommodating these multiple features then takes the following form:\n",
    "\n",
    "\\begin{equation}\n",
    "h_\\theta (x) = \\theta_0 + \\theta_1 x_1 + \\theta_2 x_2 + \\theta_3 x_3 + \\cdots + \\theta_n x_n\n",
    "\\end{equation}\n",
    "\n",
    "In order to develop intuition about this function, let's suppose we're predicting the price of houses. $x_1$ being the number of square meters in the house, $x_2$ the number of floors, etc. We can think about $\\theta_0$ as the basic price of a house (mean price), $\\theta_1$ as the price per square meter, $\\theta_2$ as the price per floor, etc. \n",
    "\n",
    "Using the definition of matrix multiplication, our multivariable hypothesis function can be concisely represented as:\n",
    "\n",
    "\\begin{align*}h_\\theta(x) =\\begin{bmatrix}\\theta_0 \\hspace{2em} \\theta_1 \\hspace{2em} ... \\hspace{2em} \\theta_n\\end{bmatrix}\\begin{bmatrix}x_0 \\newline x_1 \\newline \\vdots \\newline x_n\\end{bmatrix}= \\boldsymbol{\\theta}^T \\mathbf{x}\\end{align*}\n",
    "\n",
    "\n",
    "Where $\\boldsymbol{\\theta} = \\begin{bmatrix}\\theta_0 \\newline \\theta_1 \\newline \\vdots \\newline \\theta_n\\end{bmatrix}$ and $\\mathbf{x} = \\begin{bmatrix}x_0 \\newline x_1 \\newline \\vdots \\newline x_n\\end{bmatrix}$.\n",
    "\n",
    "Remark: we assume $x_{0}^{(i)} =1 \\text{ for } (i\\in { 1,\\dots, m } )$. This allows us to do matrix operations with $\\boldsymbol{\\theta}$ and $\\mathbf{x}$."
   ]
  },
  {
   "cell_type": "markdown",
   "metadata": {},
   "source": [
    "# 2. Gradient Descent for Multivariate Linear Regression\n",
    "\n",
    "The gradient descent equation takes the same form as the simple linear regression; we just have to repeat it for our $n$ features:\n",
    "\n",
    "\\begin{align*} & \\text{repeat until convergence:} \\; \\lbrace \\newline \\; & \\theta_0 := \\theta_0 - \\alpha \\frac{1}{m} \\sum\\limits_{i=1}^{m} (h_\\theta(x^{(i)}) - y^{(i)}) \\cdot x_0^{(i)}\\newline \\; & \\theta_1 := \\theta_1 - \\alpha \\frac{1}{m} \\sum\\limits_{i=1}^{m} (h_\\theta(x^{(i)}) - y^{(i)}) \\cdot x_1^{(i)} \\newline \\; & \\theta_2 := \\theta_2 - \\alpha \\frac{1}{m} \\sum\\limits_{i=1}^{m} (h_\\theta(x^{(i)}) - y^{(i)}) \\cdot x_2^{(i)} \\newline & \\cdots \\newline \\rbrace \\end{align*}\n",
    "\n",
    "In other words:\n",
    "\n",
    "\\begin{align*}& \\text{repeat until convergence:} \\; \\lbrace \\newline \\; & \\theta_j := \\theta_j - \\alpha \\frac{1}{m} \\sum\\limits_{i=1}^{m} (h_\\theta(x^{(i)}) - y^{(i)}) \\cdot x_j^{(i)} \\; & \\text{for j := 0...n}\\newline \\rbrace\\end{align*}"
   ]
  },
  {
   "cell_type": "markdown",
   "metadata": {},
   "source": [
    "# 3. Feature Scaling\n",
    "\n",
    "When features are on different scale ranges, gradient descent might take alot of time to converge. This is because $\\theta$ will descend quickly on small ranges and slowly on large ranges, and so will oscillate inefficiently down to the optimum when the variables are very uneven. We can speed up gradient descent by having each of our input values in roughly the same range. \n",
    "\n",
    "This is done by modifying the ranges of our input variables so that they are all the same. Ideally:\n",
    "\n",
    "\\begin{equation}\n",
    "−1 ≤ x_{(i)} ≤ 1\n",
    "\\end{equation}\n",
    "\n",
    "These aren't exact requirements; the goal is to get all input variables into roughly the same range. \n",
    "\n",
    "Another reason why feature scaling is applied is that in some machine learning algorithms, objective functions will not work properly without normalization. For example, many regressors calculate the distance between two points by the Euclidean distance. If one of the features has a broad range of values, the distance will be governed by this particular feature. Therefore, the range of all features should be normalized so that each feature contributes approximately proportionately to the final distance.\n",
    "\n",
    "There are many techniques for feature scaling, let's explore some of them:\n",
    "\n",
    "##  3.1. Min-Max Normalization (Rescaling)\n",
    "\n",
    "Also known as **min-max scaling** or **min-max normalization**, is the simplest method and consists of rescaling the range of features to scale the range in $[0, 1]$ or $[−1, 1]$. Selecting the target range depends on the nature of the data. The general formula for a min-max of $[0, 1]$ is given as:\n",
    "\n",
    "\\begin{equation}\n",
    "{\\displaystyle x'={\\frac {x-{\\text{min}}(x)}{{\\text{max}}(x)-{\\text{min}}(x)}}}\n",
    "\\end{equation}\n",
    "\n",
    "where ${\\displaystyle x}$ is an original value, ${\\displaystyle x'}$ is the normalized value. For example, suppose that we have the students' weight data, and the students' weights span [160 pounds, 200 pounds]. To rescale this data, we first subtract 160 from each student's weight and divide the result by 40 (the difference between the maximum and minimum weights).\n",
    "\n",
    "## 3.2. Mean Normalization\n",
    "\n",
    "\\begin{equation}\n",
    "{\\displaystyle x'={\\frac {x-{\\text{average}}(x)}{{\\text{max}}(x)-{\\text{min}}(x)}}}\n",
    "\\end{equation}\n",
    "\n",
    "where ${\\displaystyle x}$ is an original value, ${\\displaystyle x'}$ is the normalized value. There is another form of the means normalization which is when we divide by the standard deviation which is also called standardization.\n",
    "\n",
    "\n",
    "## 3.3. Z-score Normalization (Standardization)\n",
    "\n",
    "Feature standardization makes the values of each feature in the data have zero-mean (when subtracting the mean in the numerator) and unit-variance. This method is widely used for normalization in many machine learning algorithms (e.g., support vector machines, logistic regression, and artificial neural networks). The general method of calculation is to determine the distribution mean and standard deviation for each feature. Next, we subtract the mean from each feature. Then we divide the values (mean is already subtracted) of each feature by its standard deviation.\n",
    "\n",
    "\\begin{equation}\n",
    "{\\displaystyle x'={\\frac {x-{\\bar {x}}}{\\sigma }}}\n",
    "\\end{equation}\n",
    "\n",
    "Where ${\\displaystyle x}$ is the original feature vector, ${\\displaystyle {\\bar {x}}={\\text{average}}(x)}$ is the mean of that feature vector, and ${\\displaystyle \\sigma }$ is its standard deviation."
   ]
  },
  {
   "cell_type": "markdown",
   "metadata": {},
   "source": [
    "# 4. Ordinary Least Squares (OLS)\n",
    "\n",
    "As we mentionned for simple linear regression, gradient descent gives one way of minimizing the cost function $J$. Another way includes performing the minimization explicitly and without resorting to an iterative algorithm. The \"Ordinary least squares\" method minimizes $J$ by taking its derivatives with respect to the $θj$ ’s, and setting them to zero. This allows us to find the optimum $\\theta$ without iteration. \n",
    "\n",
    "The OLS formula for multi-variate linear regression is given below:\n",
    "\n",
    "\\begin{equation}\n",
    "{\\displaystyle {\\hat {\\boldsymbol {\\theta }}}=(\\mathbf {X} ^{\\rm {T}}\\mathbf {X} )^{-1}\\mathbf {X} ^{\\rm {T}}\\mathbf {y} .}\n",
    "\\end{equation}\n",
    "\n",
    "## 4.1. Gradient Descent vs. Ordinary Least Squares\n",
    "\n",
    "The following is a comparison of gradient descent and the OLS:\n",
    "\n",
    "|Gradient Descent                             |Ordinary Least Squares                       |\n",
    "|---------------------------------------------|---------------------------------------------|\n",
    "|Need to choose $\\alpha$                      |No need to choose $\\alpha$                   |\n",
    "|Needs many iterations                        |No need to iterate                           |\n",
    "|$O(kn^2)$                                    |$O(n^3)$, need to calculate inverse of $X^TX$|\n",
    "|Works well when n is large                   |Slow if n is very large                      |\n",
    "\n",
    "With the ordinary least squares, computing the inversion has complexity $O(n^3)$. So if we have a very large number of features, the ols will be slow.\n",
    "\n",
    "## 4.2. Ordinary Least Squares Noninvertibility\n",
    "\n",
    "When implementing OLS, $\\mathbf {X} ^{\\rm {T}}\\mathbf {X}$ should be invertible. If it is noninvertible, the common causes might be having :\n",
    "\n",
    "* Redundant features, where two features are very closely related (i.e. they are linearly dependent)\n",
    "* Too many features (e.g. $m \\leq n$). \n",
    "\n",
    "Solutions to the above problems include deleting a feature that is linearly dependent on another or deleting one or more features when there are too many features.\n"
   ]
  },
  {
   "cell_type": "markdown",
   "metadata": {},
   "source": [
    "# 5. Polynomial Regression\n",
    "\n",
    "So far, we've seen linear hypothesis functions. But what if our hypothesis function (a straight line) does not fit the data well? \n",
    "\n",
    "In statistics, polynomial regression is a form of regression analysis in which the relationship between the independent variable $x$ and the dependent variable $y$ is modeled as an $nth$ degree polynomial in $x$. Polynomial regression fits a nonlinear relationship between the value of $x$ and the corresponding output $h_{\\theta}(x)$. Although polynomial regression fits a nonlinear model to the data, as a statistical estimation problem it is linear, in the sense that the regression function $h_{\\theta}$ is linear as a function of the unknown parameters that are estimated from the data. For this reason, polynomial regression is considered to be a special case of multiple linear regression.\n",
    "\n",
    "For example, if our hypothesis function is $h_\\theta(x) = \\theta_0 + \\theta_1 x_1$, then we can create additional features based on $x_1$, to get the quadratic function $h_\\theta(x) = \\theta_0 + \\theta_1 x_1 + \\theta_2 x_1^2$ or the cubic function $h_\\theta(x) = \\theta_0 + \\theta_1 x_1 + \\theta_2 x_1^2 + \\theta_3 x_1^3$.\n",
    "\n",
    "In the cubic version, we have created new features $x_2$ and $x_3$ where $x_2 = x_1^2$ and $x_3 = x_1^3$."
   ]
  },
  {
   "cell_type": "markdown",
   "metadata": {},
   "source": [
    "# 6. Other types of features\n",
    "\n",
    "### 6.1. Interaction Terms\n",
    "\n",
    "We can combine multiple features into one. For example, we can combine two features $x_1$ and $x_2$ into a new feature $x_3 = x_1 \\times x_2$. This could be interesting when the effect on $y$ of increasing $x_1$ depends on another feature $x_2$. $x_1 \\times x_2$ is the **interaction term**.\n",
    "\n",
    "### 6.2. Square Root Features\n",
    "\n",
    "To make it a square root function, we could use: $h_\\theta(x) = \\theta_0 + \\theta_1 x_1 + \\theta_2 \\sqrt{x_1}$.\n"
   ]
  },
  {
   "cell_type": "markdown",
   "metadata": {},
   "source": [
    "One important thing to keep in mind is if you choose to add **polynomial features**, **interaction terms** or any other type of features that you find adequate, then feature scaling becomes very important.\n",
    "\n",
    "Example: if $x_1$ has [1,1000] range,  then range of $x_1^2$ becomes [1,1000000] and that of $x_1^3$ becomes [1, 1000000000]."
   ]
  },
  {
   "cell_type": "markdown",
   "metadata": {},
   "source": [
    "# 7.  Polynomial Regression with Python"
   ]
  },
  {
   "cell_type": "markdown",
   "metadata": {},
   "source": [
    "Till now, we have covered most of the theory behind Polynomial Regression. Now, let’s implement these concepts on the Boston Housing dataset."
   ]
  },
  {
   "cell_type": "markdown",
   "metadata": {},
   "source": [
    "First, we will import the required libraries."
   ]
  },
  {
   "cell_type": "code",
   "execution_count": 2,
   "metadata": {},
   "outputs": [],
   "source": [
    "import pandas as pd\n",
    "import numpy as np\n",
    "import operator\n",
    "import matplotlib.pyplot as plt\n",
    "\n",
    "from sklearn.datasets import load_boston\n",
    "\n",
    "from sklearn.model_selection import train_test_split\n",
    "from sklearn.linear_model import LinearRegression\n",
    "from sklearn.preprocessing import PolynomialFeatures\n",
    "\n",
    "from sklearn.metrics import mean_squared_error\n",
    "from sklearn.metrics import r2_score"
   ]
  },
  {
   "cell_type": "markdown",
   "metadata": {},
   "source": [
    "Next, we will load the housing data from the scikit-learn library and understand it."
   ]
  },
  {
   "cell_type": "code",
   "execution_count": 3,
   "metadata": {},
   "outputs": [],
   "source": [
    "boston_dataset = load_boston()"
   ]
  },
  {
   "cell_type": "markdown",
   "metadata": {},
   "source": [
    "We print the value of the boston_dataset to understand what it contains"
   ]
  },
  {
   "cell_type": "code",
   "execution_count": 4,
   "metadata": {},
   "outputs": [
    {
     "name": "stdout",
     "output_type": "stream",
     "text": [
      "dict_keys(['data', 'target', 'feature_names', 'DESCR', 'filename'])\n"
     ]
    }
   ],
   "source": [
    "print(boston_dataset.keys())"
   ]
  },
  {
   "cell_type": "markdown",
   "metadata": {},
   "source": [
    "Dataset description:"
   ]
  },
  {
   "cell_type": "code",
   "execution_count": 5,
   "metadata": {},
   "outputs": [
    {
     "name": "stdout",
     "output_type": "stream",
     "text": [
      ".. _boston_dataset:\n",
      "\n",
      "Boston house prices dataset\n",
      "---------------------------\n",
      "\n",
      "**Data Set Characteristics:**  \n",
      "\n",
      "    :Number of Instances: 506 \n",
      "\n",
      "    :Number of Attributes: 13 numeric/categorical predictive. Median Value (attribute 14) is usually the target.\n",
      "\n",
      "    :Attribute Information (in order):\n",
      "        - CRIM     per capita crime rate by town\n",
      "        - ZN       proportion of residential land zoned for lots over 25,000 sq.ft.\n",
      "        - INDUS    proportion of non-retail business acres per town\n",
      "        - CHAS     Charles River dummy variable (= 1 if tract bounds river; 0 otherwise)\n",
      "        - NOX      nitric oxides concentration (parts per 10 million)\n",
      "        - RM       average number of rooms per dwelling\n",
      "        - AGE      proportion of owner-occupied units built prior to 1940\n",
      "        - DIS      weighted distances to five Boston employment centres\n",
      "        - RAD      index of accessibility to radial highways\n",
      "        - TAX      full-value property-tax rate per $10,000\n",
      "        - PTRATIO  pupil-teacher ratio by town\n",
      "        - B        1000(Bk - 0.63)^2 where Bk is the proportion of blacks by town\n",
      "        - LSTAT    % lower status of the population\n",
      "        - MEDV     Median value of owner-occupied homes in $1000's\n",
      "\n",
      "    :Missing Attribute Values: None\n",
      "\n",
      "    :Creator: Harrison, D. and Rubinfeld, D.L.\n",
      "\n",
      "This is a copy of UCI ML housing dataset.\n",
      "https://archive.ics.uci.edu/ml/machine-learning-databases/housing/\n",
      "\n",
      "\n",
      "This dataset was taken from the StatLib library which is maintained at Carnegie Mellon University.\n",
      "\n",
      "The Boston house-price data of Harrison, D. and Rubinfeld, D.L. 'Hedonic\n",
      "prices and the demand for clean air', J. Environ. Economics & Management,\n",
      "vol.5, 81-102, 1978.   Used in Belsley, Kuh & Welsch, 'Regression diagnostics\n",
      "...', Wiley, 1980.   N.B. Various transformations are used in the table on\n",
      "pages 244-261 of the latter.\n",
      "\n",
      "The Boston house-price data has been used in many machine learning papers that address regression\n",
      "problems.   \n",
      "     \n",
      ".. topic:: References\n",
      "\n",
      "   - Belsley, Kuh & Welsch, 'Regression diagnostics: Identifying Influential Data and Sources of Collinearity', Wiley, 1980. 244-261.\n",
      "   - Quinlan,R. (1993). Combining Instance-Based and Model-Based Learning. In Proceedings on the Tenth International Conference of Machine Learning, 236-243, University of Massachusetts, Amherst. Morgan Kaufmann.\n",
      "\n"
     ]
    }
   ],
   "source": [
    "print(boston_dataset.DESCR)"
   ]
  },
  {
   "cell_type": "markdown",
   "metadata": {},
   "source": [
    "The price of the house indicated by the variable MEDV is our target variable and the remaining are the feature variables based on which we will predict the value of a house.\n",
    "We will now load the data into a pandas dataframe using pd.DataFrame. We then print the first 5 rows of the data using head()"
   ]
  },
  {
   "cell_type": "code",
   "execution_count": 6,
   "metadata": {},
   "outputs": [
    {
     "data": {
      "text/html": [
       "<div>\n",
       "<style scoped>\n",
       "    .dataframe tbody tr th:only-of-type {\n",
       "        vertical-align: middle;\n",
       "    }\n",
       "\n",
       "    .dataframe tbody tr th {\n",
       "        vertical-align: top;\n",
       "    }\n",
       "\n",
       "    .dataframe thead th {\n",
       "        text-align: right;\n",
       "    }\n",
       "</style>\n",
       "<table border=\"1\" class=\"dataframe\">\n",
       "  <thead>\n",
       "    <tr style=\"text-align: right;\">\n",
       "      <th></th>\n",
       "      <th>CRIM</th>\n",
       "      <th>ZN</th>\n",
       "      <th>INDUS</th>\n",
       "      <th>CHAS</th>\n",
       "      <th>NOX</th>\n",
       "      <th>RM</th>\n",
       "      <th>AGE</th>\n",
       "      <th>DIS</th>\n",
       "      <th>RAD</th>\n",
       "      <th>TAX</th>\n",
       "      <th>PTRATIO</th>\n",
       "      <th>B</th>\n",
       "      <th>LSTAT</th>\n",
       "    </tr>\n",
       "  </thead>\n",
       "  <tbody>\n",
       "    <tr>\n",
       "      <th>0</th>\n",
       "      <td>0.00632</td>\n",
       "      <td>18.0</td>\n",
       "      <td>2.31</td>\n",
       "      <td>0.0</td>\n",
       "      <td>0.538</td>\n",
       "      <td>6.575</td>\n",
       "      <td>65.2</td>\n",
       "      <td>4.0900</td>\n",
       "      <td>1.0</td>\n",
       "      <td>296.0</td>\n",
       "      <td>15.3</td>\n",
       "      <td>396.90</td>\n",
       "      <td>4.98</td>\n",
       "    </tr>\n",
       "    <tr>\n",
       "      <th>1</th>\n",
       "      <td>0.02731</td>\n",
       "      <td>0.0</td>\n",
       "      <td>7.07</td>\n",
       "      <td>0.0</td>\n",
       "      <td>0.469</td>\n",
       "      <td>6.421</td>\n",
       "      <td>78.9</td>\n",
       "      <td>4.9671</td>\n",
       "      <td>2.0</td>\n",
       "      <td>242.0</td>\n",
       "      <td>17.8</td>\n",
       "      <td>396.90</td>\n",
       "      <td>9.14</td>\n",
       "    </tr>\n",
       "    <tr>\n",
       "      <th>2</th>\n",
       "      <td>0.02729</td>\n",
       "      <td>0.0</td>\n",
       "      <td>7.07</td>\n",
       "      <td>0.0</td>\n",
       "      <td>0.469</td>\n",
       "      <td>7.185</td>\n",
       "      <td>61.1</td>\n",
       "      <td>4.9671</td>\n",
       "      <td>2.0</td>\n",
       "      <td>242.0</td>\n",
       "      <td>17.8</td>\n",
       "      <td>392.83</td>\n",
       "      <td>4.03</td>\n",
       "    </tr>\n",
       "    <tr>\n",
       "      <th>3</th>\n",
       "      <td>0.03237</td>\n",
       "      <td>0.0</td>\n",
       "      <td>2.18</td>\n",
       "      <td>0.0</td>\n",
       "      <td>0.458</td>\n",
       "      <td>6.998</td>\n",
       "      <td>45.8</td>\n",
       "      <td>6.0622</td>\n",
       "      <td>3.0</td>\n",
       "      <td>222.0</td>\n",
       "      <td>18.7</td>\n",
       "      <td>394.63</td>\n",
       "      <td>2.94</td>\n",
       "    </tr>\n",
       "    <tr>\n",
       "      <th>4</th>\n",
       "      <td>0.06905</td>\n",
       "      <td>0.0</td>\n",
       "      <td>2.18</td>\n",
       "      <td>0.0</td>\n",
       "      <td>0.458</td>\n",
       "      <td>7.147</td>\n",
       "      <td>54.2</td>\n",
       "      <td>6.0622</td>\n",
       "      <td>3.0</td>\n",
       "      <td>222.0</td>\n",
       "      <td>18.7</td>\n",
       "      <td>396.90</td>\n",
       "      <td>5.33</td>\n",
       "    </tr>\n",
       "  </tbody>\n",
       "</table>\n",
       "</div>"
      ],
      "text/plain": [
       "      CRIM    ZN  INDUS  CHAS    NOX     RM   AGE     DIS  RAD    TAX  \\\n",
       "0  0.00632  18.0   2.31   0.0  0.538  6.575  65.2  4.0900  1.0  296.0   \n",
       "1  0.02731   0.0   7.07   0.0  0.469  6.421  78.9  4.9671  2.0  242.0   \n",
       "2  0.02729   0.0   7.07   0.0  0.469  7.185  61.1  4.9671  2.0  242.0   \n",
       "3  0.03237   0.0   2.18   0.0  0.458  6.998  45.8  6.0622  3.0  222.0   \n",
       "4  0.06905   0.0   2.18   0.0  0.458  7.147  54.2  6.0622  3.0  222.0   \n",
       "\n",
       "   PTRATIO       B  LSTAT  \n",
       "0     15.3  396.90   4.98  \n",
       "1     17.8  396.90   9.14  \n",
       "2     17.8  392.83   4.03  \n",
       "3     18.7  394.63   2.94  \n",
       "4     18.7  396.90   5.33  "
      ]
     },
     "execution_count": 6,
     "metadata": {},
     "output_type": "execute_result"
    }
   ],
   "source": [
    "boston = pd.DataFrame(boston_dataset.data, columns=boston_dataset.feature_names)\n",
    "boston.head()"
   ]
  },
  {
   "cell_type": "markdown",
   "metadata": {},
   "source": [
    "We can see that the target value MEDV is missing from the data. We create a new column of target values and add it to the dataframe."
   ]
  },
  {
   "cell_type": "code",
   "execution_count": 7,
   "metadata": {},
   "outputs": [
    {
     "data": {
      "text/html": [
       "<div>\n",
       "<style scoped>\n",
       "    .dataframe tbody tr th:only-of-type {\n",
       "        vertical-align: middle;\n",
       "    }\n",
       "\n",
       "    .dataframe tbody tr th {\n",
       "        vertical-align: top;\n",
       "    }\n",
       "\n",
       "    .dataframe thead th {\n",
       "        text-align: right;\n",
       "    }\n",
       "</style>\n",
       "<table border=\"1\" class=\"dataframe\">\n",
       "  <thead>\n",
       "    <tr style=\"text-align: right;\">\n",
       "      <th></th>\n",
       "      <th>CRIM</th>\n",
       "      <th>ZN</th>\n",
       "      <th>INDUS</th>\n",
       "      <th>CHAS</th>\n",
       "      <th>NOX</th>\n",
       "      <th>RM</th>\n",
       "      <th>AGE</th>\n",
       "      <th>DIS</th>\n",
       "      <th>RAD</th>\n",
       "      <th>TAX</th>\n",
       "      <th>PTRATIO</th>\n",
       "      <th>B</th>\n",
       "      <th>LSTAT</th>\n",
       "      <th>MEDV</th>\n",
       "    </tr>\n",
       "  </thead>\n",
       "  <tbody>\n",
       "    <tr>\n",
       "      <th>0</th>\n",
       "      <td>0.00632</td>\n",
       "      <td>18.0</td>\n",
       "      <td>2.31</td>\n",
       "      <td>0.0</td>\n",
       "      <td>0.538</td>\n",
       "      <td>6.575</td>\n",
       "      <td>65.2</td>\n",
       "      <td>4.0900</td>\n",
       "      <td>1.0</td>\n",
       "      <td>296.0</td>\n",
       "      <td>15.3</td>\n",
       "      <td>396.90</td>\n",
       "      <td>4.98</td>\n",
       "      <td>24.0</td>\n",
       "    </tr>\n",
       "    <tr>\n",
       "      <th>1</th>\n",
       "      <td>0.02731</td>\n",
       "      <td>0.0</td>\n",
       "      <td>7.07</td>\n",
       "      <td>0.0</td>\n",
       "      <td>0.469</td>\n",
       "      <td>6.421</td>\n",
       "      <td>78.9</td>\n",
       "      <td>4.9671</td>\n",
       "      <td>2.0</td>\n",
       "      <td>242.0</td>\n",
       "      <td>17.8</td>\n",
       "      <td>396.90</td>\n",
       "      <td>9.14</td>\n",
       "      <td>21.6</td>\n",
       "    </tr>\n",
       "    <tr>\n",
       "      <th>2</th>\n",
       "      <td>0.02729</td>\n",
       "      <td>0.0</td>\n",
       "      <td>7.07</td>\n",
       "      <td>0.0</td>\n",
       "      <td>0.469</td>\n",
       "      <td>7.185</td>\n",
       "      <td>61.1</td>\n",
       "      <td>4.9671</td>\n",
       "      <td>2.0</td>\n",
       "      <td>242.0</td>\n",
       "      <td>17.8</td>\n",
       "      <td>392.83</td>\n",
       "      <td>4.03</td>\n",
       "      <td>34.7</td>\n",
       "    </tr>\n",
       "    <tr>\n",
       "      <th>3</th>\n",
       "      <td>0.03237</td>\n",
       "      <td>0.0</td>\n",
       "      <td>2.18</td>\n",
       "      <td>0.0</td>\n",
       "      <td>0.458</td>\n",
       "      <td>6.998</td>\n",
       "      <td>45.8</td>\n",
       "      <td>6.0622</td>\n",
       "      <td>3.0</td>\n",
       "      <td>222.0</td>\n",
       "      <td>18.7</td>\n",
       "      <td>394.63</td>\n",
       "      <td>2.94</td>\n",
       "      <td>33.4</td>\n",
       "    </tr>\n",
       "    <tr>\n",
       "      <th>4</th>\n",
       "      <td>0.06905</td>\n",
       "      <td>0.0</td>\n",
       "      <td>2.18</td>\n",
       "      <td>0.0</td>\n",
       "      <td>0.458</td>\n",
       "      <td>7.147</td>\n",
       "      <td>54.2</td>\n",
       "      <td>6.0622</td>\n",
       "      <td>3.0</td>\n",
       "      <td>222.0</td>\n",
       "      <td>18.7</td>\n",
       "      <td>396.90</td>\n",
       "      <td>5.33</td>\n",
       "      <td>36.2</td>\n",
       "    </tr>\n",
       "  </tbody>\n",
       "</table>\n",
       "</div>"
      ],
      "text/plain": [
       "      CRIM    ZN  INDUS  CHAS    NOX     RM   AGE     DIS  RAD    TAX  \\\n",
       "0  0.00632  18.0   2.31   0.0  0.538  6.575  65.2  4.0900  1.0  296.0   \n",
       "1  0.02731   0.0   7.07   0.0  0.469  6.421  78.9  4.9671  2.0  242.0   \n",
       "2  0.02729   0.0   7.07   0.0  0.469  7.185  61.1  4.9671  2.0  242.0   \n",
       "3  0.03237   0.0   2.18   0.0  0.458  6.998  45.8  6.0622  3.0  222.0   \n",
       "4  0.06905   0.0   2.18   0.0  0.458  7.147  54.2  6.0622  3.0  222.0   \n",
       "\n",
       "   PTRATIO       B  LSTAT  MEDV  \n",
       "0     15.3  396.90   4.98  24.0  \n",
       "1     17.8  396.90   9.14  21.6  \n",
       "2     17.8  392.83   4.03  34.7  \n",
       "3     18.7  394.63   2.94  33.4  \n",
       "4     18.7  396.90   5.33  36.2  "
      ]
     },
     "execution_count": 7,
     "metadata": {},
     "output_type": "execute_result"
    }
   ],
   "source": [
    "boston['MEDV'] = boston_dataset.target\n",
    "boston.head()"
   ]
  },
  {
   "cell_type": "markdown",
   "metadata": {},
   "source": [
    "In order to elaborate polynomial regression visually, we will use LSTAT as our only feature for now. Using a scatter plot let’s see how this feature varies with MEDV."
   ]
  },
  {
   "cell_type": "code",
   "execution_count": 8,
   "metadata": {
    "scrolled": true
   },
   "outputs": [
    {
     "data": {
      "text/plain": [
       "Text(0, 0.5, 'MEDV')"
      ]
     },
     "execution_count": 8,
     "metadata": {},
     "output_type": "execute_result"
    },
    {
     "data": {
      "image/png": "[encoded data removed]",
      "text/plain": [
       "<Figure size 720x432 with 1 Axes>"
      ]
     },
     "metadata": {
      "needs_background": "light"
     },
     "output_type": "display_data"
    }
   ],
   "source": [
    "plt.figure(figsize=(10, 6))\n",
    "\n",
    "X = pd.DataFrame(np.c_[boston['LSTAT']], columns = ['LSTAT'])\n",
    "Y = boston['MEDV']\n",
    "\n",
    "plt.scatter(X, Y, marker='o')\n",
    "plt.title('MEDV vs. LSTAT')\n",
    "plt.xlabel('LSTAT')\n",
    "plt.ylabel('MEDV')"
   ]
  },
  {
   "cell_type": "markdown",
   "metadata": {},
   "source": [
    "Next, we split the data into training and testing sets. We train the model with 80% of the samples and test with the remaining 20%. We do this to assess the model’s performance on unseen data. To split the data we use train_test_split function provided by scikit-learn library. We finally print the sizes of our training and test set to verify if the splitting has occurred properly."
   ]
  },
  {
   "cell_type": "code",
   "execution_count": 9,
   "metadata": {},
   "outputs": [
    {
     "name": "stdout",
     "output_type": "stream",
     "text": [
      "(404, 1)\n",
      "(404,)\n",
      "(102, 1)\n",
      "(102,)\n"
     ]
    }
   ],
   "source": [
    "X_train, X_test, y_train, y_test = train_test_split(X, Y, test_size = 0.2, random_state=5)\n",
    "print(X_train.shape)\n",
    "print(y_train.shape)\n",
    "print(X_test.shape)\n",
    "print(y_test.shape)"
   ]
  },
  {
   "cell_type": "markdown",
   "metadata": {},
   "source": [
    "Let's visualize the split on a scatter plot:"
   ]
  },
  {
   "cell_type": "code",
   "execution_count": 10,
   "metadata": {},
   "outputs": [
    {
     "data": {
      "text/plain": [
       "Text(0, 0.5, 'MEDV')"
      ]
     },
     "execution_count": 10,
     "metadata": {},
     "output_type": "execute_result"
    },
    {
     "data": {
      "image/png": "[encoded data removed]",
      "text/plain": [
       "<Figure size 720x432 with 1 Axes>"
      ]
     },
     "metadata": {
      "needs_background": "light"
     },
     "output_type": "display_data"
    }
   ],
   "source": [
    "plt.figure(figsize=(10, 6))\n",
    "\n",
    "plt.scatter(X_train, y_train, marker='o')\n",
    "plt.scatter(X_test, y_test, marker='o', c='red')\n",
    "plt.title('MEDV vs. LSTAT')\n",
    "plt.legend(['train', 'test'])\n",
    "plt.xlabel('LSTAT')\n",
    "plt.ylabel('MEDV')"
   ]
  },
  {
   "cell_type": "markdown",
   "metadata": {},
   "source": [
    "We use scikit-learn’s LinearRegression to train our model on the training set and measure performance on both the training and test sets."
   ]
  },
  {
   "cell_type": "code",
   "execution_count": 11,
   "metadata": {},
   "outputs": [
    {
     "data": {
      "image/png": "[encoded data removed]",
      "text/plain": [
       "<Figure size 720x432 with 1 Axes>"
      ]
     },
     "metadata": {
      "needs_background": "light"
     },
     "output_type": "display_data"
    }
   ],
   "source": [
    "# fit linear model\n",
    "model_lin = LinearRegression()\n",
    "model_lin.fit(X_train, y_train)\n",
    "\n",
    "# predicting over training & testing datasets\n",
    "y_train_pred = model_lin.predict(X_train)\n",
    "y_test_pred = model_lin.predict(X_test)\n",
    "\n",
    "# plot initial dataset\n",
    "plt.figure(figsize=(10, 6))\n",
    "plt.scatter(X_train, y_train, marker='o')\n",
    "plt.scatter(X_test, y_test, marker='o', c='red')\n",
    "\n",
    "# sort features and predictions\n",
    "sort_axis = operator.itemgetter(0)\n",
    "sorted_zip = sorted(zip(np.array(X_train) ,y_train_pred), key=sort_axis)\n",
    "X_train_sorted, y_train_pred_sorted = zip(*sorted_zip)\n",
    "\n",
    "# Add linear model\n",
    "plt.plot(X_train_sorted, y_train_pred_sorted, color='m')   \n",
    "plt.title('MEDV vs. LSTAT')\n",
    "plt.legend(['model', 'train', 'test'])\n",
    "plt.xlabel('LSTAT')\n",
    "plt.ylabel('MEDV')\n",
    "plt.show()"
   ]
  },
  {
   "cell_type": "markdown",
   "metadata": {},
   "source": [
    "Model hypothesis function:"
   ]
  },
  {
   "cell_type": "code",
   "execution_count": 12,
   "metadata": {},
   "outputs": [],
   "source": [
    "def generate_model_hypothesis(intercept, coefficients):\n",
    "    formula = \"y = \" + str(np.round(intercept, 3))\n",
    "\n",
    "    for power, theta in np.ndenumerate(coefficients):\n",
    "        if theta > 0:\n",
    "            formula = formula + \"+\"+str(np.round(theta,3))+\"x^\"+str(power[0]+1)\n",
    "        if theta < 0:\n",
    "            formula = formula +str(np.round(theta,3))+\"x^\"+str(power[0]+1)\n",
    "            \n",
    "    return formula"
   ]
  },
  {
   "cell_type": "code",
   "execution_count": 13,
   "metadata": {},
   "outputs": [
    {
     "data": {
      "text/plain": [
       "'y = 34.873-0.98x^1'"
      ]
     },
     "execution_count": 13,
     "metadata": {},
     "output_type": "execute_result"
    }
   ],
   "source": [
    "generate_model_hypothesis(model_lin.intercept_, model_lin.coef_)"
   ]
  },
  {
   "cell_type": "markdown",
   "metadata": {},
   "source": [
    "We can see that the straight line is unable to capture the patterns in the data. This is an example of **under-fitting**. Computing the RMSE and R²-score of the linear line gives:"
   ]
  },
  {
   "cell_type": "code",
   "execution_count": 14,
   "metadata": {},
   "outputs": [
    {
     "name": "stdout",
     "output_type": "stream",
     "text": [
      "The model performance for training set\n",
      "--------------------------------------\n",
      "RMSE is 6.201452973865344\n",
      "R2 score is 0.5523019908037391\n",
      "\n",
      "\n",
      "The model performance for testing set\n",
      "--------------------------------------\n",
      "RMSE is 6.2307165730986815\n",
      "R2 score is 0.5041523728903132\n"
     ]
    }
   ],
   "source": [
    "from sklearn.metrics import mean_squared_error\n",
    "from sklearn.metrics import r2_score\n",
    "\n",
    "# model evaluation for training set\n",
    "rmse = (np.sqrt(mean_squared_error(y_train, y_train_pred)))\n",
    "r2 = r2_score(y_train, y_train_pred)\n",
    "\n",
    "print(\"The model performance for training set\")\n",
    "print(\"--------------------------------------\")\n",
    "print('RMSE is {}'.format(rmse))\n",
    "print('R2 score is {}'.format(r2))\n",
    "print(\"\\n\")\n",
    "\n",
    "# model evaluation for testing set\n",
    "rmse = (np.sqrt(mean_squared_error(y_test, y_test_pred)))\n",
    "r2 = r2_score(y_test, y_test_pred)\n",
    "\n",
    "print(\"The model performance for testing set\")\n",
    "print(\"--------------------------------------\")\n",
    "print('RMSE is {}'.format(rmse))\n",
    "print('R2 score is {}'.format(r2))"
   ]
  },
  {
   "cell_type": "markdown",
   "metadata": {},
   "source": [
    "To overcome **under-fitting**, we need to increase the complexity of the model.\n",
    "To generate a higher-order equation we can add powers of the original features as new features. "
   ]
  },
  {
   "cell_type": "code",
   "execution_count": 15,
   "metadata": {},
   "outputs": [],
   "source": [
    "def create_polynomial_regression_model(degree):\n",
    "    # Adding polynomial features\n",
    "    polynomial_features= PolynomialFeatures(degree=degree, include_bias=True)\n",
    "    X_train_poly = polynomial_features.fit_transform(X_train)\n",
    "    X_test_poly = polynomial_features.fit_transform(X_test)\n",
    "\n",
    "    model_poly = LinearRegression()\n",
    "    model_poly.fit(X_train_poly, y_train)\n",
    "\n",
    "    # predicting over training & testing datasets\n",
    "    y_train_pred_poly = model_poly.predict(X_train_poly)\n",
    "    y_test_pred_poly = model_poly.predict(X_test_poly)\n",
    "\n",
    "    # plot initial dataset\n",
    "    plt.figure(figsize=(10, 6))\n",
    "    plt.scatter(X_train, y_train, marker='o')\n",
    "    plt.scatter(X_test, y_test, marker='o', c='red')\n",
    "\n",
    "    # sort the values of x before line plot\n",
    "    sort_axis = operator.itemgetter(0)\n",
    "    sorted_zip = sorted(zip(np.array(X_train) ,y_train_pred_poly), key=sort_axis)\n",
    "\n",
    "    X_train_sorted, y_train_pred_poly_sorted = zip(*sorted_zip)\n",
    "\n",
    "    plt.plot(X_train_sorted, y_train_pred_poly_sorted, color='m')\n",
    "    plt.title('MEDV vs. LSTAT')\n",
    "    plt.legend(['model', 'train', 'test'])\n",
    "    plt.xlabel('LSTAT')\n",
    "    plt.ylabel('MEDV')\n",
    "    plt.show()\n",
    "    \n",
    "    \n",
    "    print(\"model hypothesis: \", generate_model_hypothesis(model_poly.intercept_, model_poly.coef_))\n",
    "    print(\"\\n\")\n",
    "    \n",
    "    # model evaluation for training set\n",
    "    rmse = (np.sqrt(mean_squared_error(y_train, y_train_pred_poly)))\n",
    "    r2 = r2_score(y_train, y_train_pred_poly)\n",
    "\n",
    "    print(\"The model performance for training set\")\n",
    "    print(\"--------------------------------------\")\n",
    "    print('RMSE is {}'.format(rmse))\n",
    "    print('R2 score is {}'.format(r2))\n",
    "    print(\"\\n\")\n",
    "\n",
    "    # model evaluation for testing set\n",
    "    rmse = (np.sqrt(mean_squared_error(y_test, y_test_pred_poly)))\n",
    "    r2 = r2_score(y_test, y_test_pred_poly)\n",
    "\n",
    "    print(\"The model performance for testing set\")\n",
    "    print(\"--------------------------------------\")\n",
    "    print('RMSE is {}'.format(rmse))\n",
    "    print('R2 score is {}'.format(r2))"
   ]
  },
  {
   "cell_type": "code",
   "execution_count": 16,
   "metadata": {},
   "outputs": [
    {
     "data": {
      "image/png": "[encoded data removed]",
      "text/plain": [
       "<Figure size 720x432 with 1 Axes>"
      ]
     },
     "metadata": {
      "needs_background": "light"
     },
     "output_type": "display_data"
    },
    {
     "name": "stdout",
     "output_type": "stream",
     "text": [
      "model hypothesis:  y = 69.51-12.835x^2+1.393x^3-0.075x^4+0.002x^5-0.0x^6\n",
      "\n",
      "\n",
      "The model performance for training set\n",
      "--------------------------------------\n",
      "RMSE is 5.189224470483828\n",
      "R2 score is 0.6865248142011549\n",
      "\n",
      "\n",
      "The model performance for testing set\n",
      "--------------------------------------\n",
      "RMSE is 5.176942964726688\n",
      "R2 score is 0.6576904564361374\n"
     ]
    }
   ],
   "source": [
    "create_polynomial_regression_model(5)"
   ]
  },
  {
   "cell_type": "markdown",
   "metadata": {},
   "source": [
    "Fitting a linear regression model on the transformed features gives the above plot. It is quite clear from the plot that the quadratic curve is able to fit the data better than the linear line. Computing the RMSE and R²-score of the quadratic plot shows better results.\n",
    "\n",
    "For degree=15, the model is also capturing the noise in the data. This is an example of **over-fitting**. Even though this model passes through many of the data points, it will fail to generalize on unseen data."
   ]
  },
  {
   "cell_type": "markdown",
   "metadata": {},
   "source": [
    "# 8. Regularization in  Regression Models\n",
    "\n",
    "As we add more and more parameters to our model, its complexity increases, which results in increasing variance and decreasing bias, i.e., **overfitting**.\n",
    "\n",
    "In the precedent section, we have seen that in order to overcome underfitting or high bias, we can basically add new parameters to our model so that the model complexity increases, and thus reducing high bias. Now, how can we overcome overfitting for a regression model?\n",
    "\n",
    "Basically there are two methods to overcome overfitting,\n",
    "\n",
    "* Reduce the model complexity\n",
    "* **Regularization**\n",
    "\n",
    "As we have seen before, in regularization, the cost function is penalized in order to reduce the values of our model parameters. A regularized regression cost function can then take the following form:\n",
    "\n",
    "$$ J(\\theta_0,\\theta_1)\\ =\\ \\frac{1}{2m}\\sum_{i=1}^m (\\theta_0+\\theta_1x_i-y_i)^2 + P(\\lambda,\\theta)$$\n",
    "\n",
    "We have different types of regression techniques that uses regularization to overcome this problem. \n",
    "\n",
    "## 8.1. Ridge Regression\n",
    "\n",
    "In Ridge Regression, the loss function is augmented in such a way that we not only minimize the sum of squared residuals but also penalize the size of parameter estimates, in order to shrink them towards zero:\n",
    "\n",
    "$$ J(\\theta)\\ =\\ \\frac{1}{2m}\\sum_{i=1}^m (h(x_i)-y_i)^2 +\\ \\lambda\\sum_{j=1}^n\\theta_j^2$$\n",
    "\n",
    "Here if you notice, we come across an extra term, which is known as the penalty term. By changing the values of $\\lambda$ (the regularization coefficient), we are basically controlling the penalty term. Higher the values of $\\lambda$, bigger is the penalty and therefore the magnitude of coefficients are reduced.\n",
    "\n",
    "Important Points about Ridge Regression:\n",
    "\n",
    "* It shrinks the parameters, therefore it is mostly used to prevent multicollinearity.\n",
    "* It reduces the model complexity by coefficient shrinkage.\n",
    "* It uses $L_2$ regularization technique. \n",
    "\n",
    "## 8.2. Lasso Regression\n",
    "\n",
    "The mathematics behind Lasso regression is quite similar to that of Ridge. The only difference being instead of adding squares of $\\theta$, we will add the absolute value of $\\theta$.\n",
    "\n",
    "$$ J(\\theta)\\ =\\ \\frac{1}{2m}\\sum_{i=1}^m (h(x_i)-y_i)^2 +\\ \\lambda\\sum_{j=1}^n|\\theta_j|$$\n",
    "\n",
    "Important Points about Lasso Regression:\n",
    "\n",
    "* It uses $L_1$ regularization technique \n",
    "* It is generally used when we have a high number of features, because it automatically does feature selection.\n",
    "\n",
    "## 8.3. Reguralization for Sparsity \n",
    "\n",
    "Let us try to visualize the effect of $L_1$ and $L_2$ regularization by plotting them. For making visualization easy, let us plot them in 2D space. For that we suppose that we just have two parameters $\\theta_0$ and $\\theta_1$. \n",
    "\n",
    "The regularization forces the model optimisation to find the best trade-off between the initial cost function and the complexity of the model represented by the penalty/regularization term $P(\\lambda,\\theta)$.\n",
    "\n",
    "In other words, if we keep the regularization term $P(\\lambda,\\theta)$ smaller than certain value, we've achieved our goal. Now let's visualize what it means for the $L_2$ norm of our weight vector to be under certain value, let's say 1. Since $L_2$ is the Euclidean distance from the origin, our desired vector should then be bound within a circle with a radius of 1, centered on the origin. \n",
    "\n",
    "This was great at keeping weights small, but it can leave the model unnecessarily large and complex, since all of the features may still remain even with small weights.\n",
    "\n",
    "When trying to keep $L_1$ norm under certain value, the area in which our weight vector can reside will take the shape of the diamond shown below. The most important takeaway here is that, when applying $L_1$ regularization, the optimal value of certain weights can end up being zero, and that's because of the extreme diamond shape of this optimal region. Thus as opposed to the smooth circular shape in $L_2$ regularization.\n",
    "\n",
    "This property of $L_1$ regularization is extensively used as a feature selection mechanism. This acts as a built-in feature selector by killing all bad features and leaving only the strongest in the model. This has many benefits especially with sparse features. With fewer coefficients to store and load, there is a reduction in storage and memory needed with a much smaller model size, which is especially important for embedded models. \n",
    "\n",
    "<img src=\"figures/Ridge_vs_Lasso_Regression.png\" alt=\"Ridge_vs_Lasso_Regularization\" style=\"width: 600px;\"/>\n",
    "\n",
    "Actually, there are different possible choices of regularization with different choices of order of the parameter in the regularization term, which is denoted by $\\sum_{j=1}^n|\\theta_j|^p$ This is more generally known as $L_p$ regularizer. The $L_0$ for $p=0$ norm is the count of the non-zero values in a vector, and the L-infinity norm for $p \\to \\infty$ the maximum absolute value of any value in a vector.\n",
    "\n",
    "\\begin{align*}\n",
    "L_0 \\text{-norm} &= \\lVert \\boldsymbol{\\theta} \\rVert_0 = \\sum_{j=0}^n |\\theta_j|^0 \\newline\n",
    "L_1 \\text{-norm} &= \\lVert \\boldsymbol{\\theta} \\rVert_1 = \\sum_{j=0}^n |\\theta_j| \\newline\n",
    "L_2 \\text{-norm} &= \\lVert \\boldsymbol{\\theta} \\rVert_2 = \\sum_{j=0}^n |\\theta_j|^2 \\newline\n",
    "L_{\\infty} \\text{-norm} &= \\lVert \\boldsymbol{\\theta} \\rVert_{\\infty} = max\\big\\{|\\theta_0|,|\\theta_1|, ..., |\\theta_n|\\big\\} \\newline\n",
    "\\end{align*}\n",
    "\n",
    "\n",
    "## 8.4. Elastic Net Regression\n",
    " \n",
    "In practice, usually the $L_2$-norm provides more generalizable models than the $L_1$-norm. However, in some situations, we will end up with much more complex heavy models if we use $L_2$ instead of $L_1$. This happens because often features have high correlation with each other, and the $L_1$ regularization uses one of them and throw away the other, whereas $L_2$\n",
    "regularization will keep both features and keep their weight magnitudes small. Therefore, with $L_1$, you can end up with a smaller model but it may be less predictive. \n",
    "\n",
    "To get the best of both worlds, a third commonly used model of regression is the Elastic Net which incorporates penalties from both $L_1$ and $L_2$ regularization. This way, you get the benefits of sparsity for really poor predictive features while also keeping decent and great features with smaller weights to provide a good generalization. The only trade off now is that there are two instead of one hyperparameters to tune with the two different $\\lambda$ regularization parameters.\n",
    "\n",
    "$$ J(\\theta)\\ =\\ \\frac{1}{2m}\\sum_{i=1}^m (h(x_i)-y_i)^2 +\\ \\lambda_1\\sum_{j=1}^n|\\theta_j|+\\ \\lambda_2\\sum_{j=1}^n\\theta_j^2$$\n",
    "\n",
    "Another way to write the cost function in Elastic Net includes having a regularization parameter $\\lambda$ and another parameter $\\alpha$ corresponding to the weight of $L_1$ and $L_2$ penalty in your cost function:\n",
    "\n",
    "$$ J(\\theta)\\ =\\ \\frac{1}{2m}\\sum_{i=1}^m (h(x_i)-y_i)^2 +\\ \\lambda( \\frac{1-\\alpha}{2}\\sum_{j=1}^n\\theta_j^2 + \\alpha \\sum_{j=1}^n|\\theta_j| ) $$\n",
    "\n",
    "Therefore, in addition to setting and choosing a $\\lambda$ value, elastic net also allows us to tune the $\\alpha$ parameter where $\\alpha = 0$ corresponds to ridge and $\\alpha = 1$ to lasso. Simply put, if you plug in $0$ for $\\alpha$, the penalty function reduces to the $L_1$ (ridge) term and if we set $\\alpha$ to $1$ we get the $L_2$ (lasso) term. Therefore we can choose an alpha value between 0 and 1 to optimize the elastic net. Effectively this will shrink some coefficients and set some to 0 for sparse selection."
   ]
  },
  {
   "cell_type": "markdown",
   "metadata": {},
   "source": [
    "# 9.  Ridge, Lasso & Elastic Net with Python"
   ]
  },
  {
   "cell_type": "markdown",
   "metadata": {},
   "source": [
    "Let's use the same housing example, this time we will consider all input features (multi-variate linear regression)."
   ]
  },
  {
   "cell_type": "code",
   "execution_count": 17,
   "metadata": {},
   "outputs": [],
   "source": [
    "import pandas as pd\n",
    "import numpy as np\n",
    "import operator\n",
    "import matplotlib.pyplot as plt\n",
    "\n",
    "from sklearn.datasets import load_boston\n",
    "\n",
    "from sklearn.model_selection import train_test_split\n",
    "from sklearn.model_selection import GridSearchCV\n",
    "from sklearn.linear_model import LinearRegression\n",
    "from sklearn.linear_model import Ridge\n",
    "from sklearn.linear_model import Lasso\n",
    "\n",
    "from sklearn.metrics import mean_squared_error\n",
    "from sklearn.metrics import r2_score"
   ]
  },
  {
   "cell_type": "markdown",
   "metadata": {},
   "source": [
    "Let's load the boston data, load it into a pandas dataframe, and split data into a training set and a testing set."
   ]
  },
  {
   "cell_type": "code",
   "execution_count": 18,
   "metadata": {},
   "outputs": [],
   "source": [
    "boston_dataset = load_boston()\n",
    "\n",
    "feature_cols = boston_dataset.feature_names.tolist()\n",
    "\n",
    "boston = pd.DataFrame(boston_dataset.data, columns=feature_cols)\n",
    "boston['MEDV'] = boston_dataset.target\n",
    "\n",
    "X = pd.DataFrame(np.c_[boston[feature_cols]], columns = feature_cols)\n",
    "Y = boston[['MEDV']]\n",
    "\n",
    "X_train, X_test, y_train, y_test = train_test_split(X, Y, test_size = 0.2, random_state=5)"
   ]
  },
  {
   "cell_type": "markdown",
   "metadata": {},
   "source": [
    "Let's fit a multivariate polynomial regression model of the second degree, and evaluate its performance."
   ]
  },
  {
   "cell_type": "code",
   "execution_count": 19,
   "metadata": {},
   "outputs": [],
   "source": [
    "# fit linear model\n",
    "# Adding polynomial features\n",
    "polynomial_features= PolynomialFeatures(degree=2, include_bias=True)\n",
    "X_train_poly = polynomial_features.fit_transform(X_train)\n",
    "X_test_poly = polynomial_features.fit_transform(X_test)\n",
    "\n",
    "model_poly = LinearRegression()\n",
    "model_poly.fit(X_train_poly, y_train)\n",
    "\n",
    "# predicting over training & testing datasets\n",
    "y_train_pred = model_poly.predict(X_train_poly)\n",
    "y_test_pred = model_poly.predict(X_test_poly)"
   ]
  },
  {
   "cell_type": "code",
   "execution_count": 20,
   "metadata": {},
   "outputs": [
    {
     "name": "stdout",
     "output_type": "stream",
     "text": [
      "The model performance for training set\n",
      "--------------------------------------\n",
      "RMSE is 2.424742963026645\n",
      "R2 score is 0.9315569004651907\n",
      "\n",
      "\n",
      "The model performance for testing set\n",
      "--------------------------------------\n",
      "RMSE is 3.196527651332134\n",
      "R2 score is 0.8694943908786059\n"
     ]
    }
   ],
   "source": [
    "# model evaluation for training set\n",
    "rmse = (np.sqrt(mean_squared_error(y_train, y_train_pred)))\n",
    "r2 = r2_score(y_train, y_train_pred)\n",
    "\n",
    "print(\"The model performance for training set\")\n",
    "print(\"--------------------------------------\")\n",
    "print('RMSE is {}'.format(rmse))\n",
    "print('R2 score is {}'.format(r2))\n",
    "print(\"\\n\")\n",
    "\n",
    "# model evaluation for testing set\n",
    "rmse = (np.sqrt(mean_squared_error(y_test, y_test_pred)))\n",
    "r2 = r2_score(y_test, y_test_pred)\n",
    "\n",
    "print(\"The model performance for testing set\")\n",
    "print(\"--------------------------------------\")\n",
    "print('RMSE is {}'.format(rmse))\n",
    "print('R2 score is {}'.format(r2))"
   ]
  },
  {
   "cell_type": "markdown",
   "metadata": {},
   "source": [
    "Let's plot the weight coefficients of the first degree features of our model:"
   ]
  },
  {
   "cell_type": "code",
   "execution_count": 21,
   "metadata": {},
   "outputs": [
    {
     "data": {
      "text/plain": [
       "<matplotlib.axes._subplots.AxesSubplot at 0x12542a9d0>"
      ]
     },
     "execution_count": 21,
     "metadata": {},
     "output_type": "execute_result"
    },
    {
     "data": {
      "image/png": "[encoded data removed]",
      "text/plain": [
       "<Figure size 576x432 with 1 Axes>"
      ]
     },
     "metadata": {
      "needs_background": "light"
     },
     "output_type": "display_data"
    }
   ],
   "source": [
    "coef = pd.Series(model_poly.coef_[0][:13], feature_cols)\n",
    "\n",
    "plt.figure(figsize=(8, 6))\n",
    "coef.plot(kind='bar', title='Model Coefficients')"
   ]
  },
  {
   "cell_type": "markdown",
   "metadata": {},
   "source": [
    "### Ridge Regression\n",
    "\n",
    "Now, let's try to train a ridge model with a regularization parameter $\\lambda = 0.05$."
   ]
  },
  {
   "cell_type": "code",
   "execution_count": 22,
   "metadata": {},
   "outputs": [],
   "source": [
    "## training the model\n",
    "model_ridge = Ridge(alpha=0.02, normalize=True)\n",
    "model_ridge.fit(X_train_poly, y_train)\n",
    "\n",
    "# predicting over training & testing datasets\n",
    "y_train_pred = model_ridge.predict(X_train_poly)\n",
    "y_test_pred = model_ridge.predict(X_test_poly)"
   ]
  },
  {
   "cell_type": "markdown",
   "metadata": {},
   "source": [
    "Let's examine how our model parameters are shrinked with ridge regression:"
   ]
  },
  {
   "cell_type": "code",
   "execution_count": 23,
   "metadata": {
    "scrolled": true
   },
   "outputs": [
    {
     "data": {
      "text/plain": [
       "<matplotlib.axes._subplots.AxesSubplot at 0x122ebf750>"
      ]
     },
     "execution_count": 23,
     "metadata": {},
     "output_type": "execute_result"
    },
    {
     "data": {
      "image/png": "[encoded data removed]",
      "text/plain": [
       "<Figure size 576x432 with 1 Axes>"
      ]
     },
     "metadata": {
      "needs_background": "light"
     },
     "output_type": "display_data"
    }
   ],
   "source": [
    "coef = pd.Series(model_ridge.coef_[0][:13], feature_cols)\n",
    "\n",
    "plt.figure(figsize=(8, 6))\n",
    "coef.plot(kind='bar', title='Model Coefficients')"
   ]
  },
  {
   "cell_type": "markdown",
   "metadata": {},
   "source": [
    "We can notice how the model parameters have shrinked."
   ]
  },
  {
   "cell_type": "markdown",
   "metadata": {},
   "source": [
    "Ridge Regression model evaluation:"
   ]
  },
  {
   "cell_type": "code",
   "execution_count": 24,
   "metadata": {
    "scrolled": true
   },
   "outputs": [
    {
     "name": "stdout",
     "output_type": "stream",
     "text": [
      "The model performance for training set\n",
      "--------------------------------------\n",
      "RMSE is 3.212454315321497\n",
      "R2 score is 0.879864274858493\n",
      "\n",
      "\n",
      "The model performance for testing set\n",
      "--------------------------------------\n",
      "RMSE is 2.9787431254124708\n",
      "R2 score is 0.8866717055367619\n"
     ]
    }
   ],
   "source": [
    "# model evaluation for training set\n",
    "rmse = (np.sqrt(mean_squared_error(y_train, y_train_pred)))\n",
    "r2 = r2_score(y_train, y_train_pred)\n",
    "\n",
    "print(\"The model performance for training set\")\n",
    "print(\"--------------------------------------\")\n",
    "print('RMSE is {}'.format(rmse))\n",
    "print('R2 score is {}'.format(r2))\n",
    "print(\"\\n\")\n",
    "\n",
    "# model evaluation for testing set\n",
    "rmse = (np.sqrt(mean_squared_error(y_test, y_test_pred)))\n",
    "r2 = r2_score(y_test, y_test_pred)\n",
    "\n",
    "print(\"The model performance for testing set\")\n",
    "print(\"--------------------------------------\")\n",
    "print('RMSE is {}'.format(rmse))\n",
    "print('R2 score is {}'.format(r2))"
   ]
  },
  {
   "cell_type": "markdown",
   "metadata": {},
   "source": [
    "So, we can see that there is a slight improvement in our model because the value of the RMSE has decreased (or the value of R2 score has increased depending on what metric we're optimizing for). Note that the value of $\\lambda$ is a hyperparameter of Ridge Regression, which means that they are not automatically learned by the model instead they have to be set manually or can be tuned using one of the hyperparameter tuning approaches.\n",
    "\n",
    "You can see that, as we increase the value of $\\lambda$, the magnitude of the coefficients decreases, where the values reach zero but not absolute zero.\n",
    "\n",
    "The value of $\\lambda$ can be chosen wisely by iterating it through a range of values and using the one which gives us the lowest error. Let's hypertune $\\lambda$ using the grid search approach over a cross-validation dataset. "
   ]
  },
  {
   "cell_type": "code",
   "execution_count": 25,
   "metadata": {},
   "outputs": [],
   "source": [
    "## training the model\n",
    "param_grid = {'alpha': [0.001, 0.005, 0.008, 0.01, 0.02, 0.03, 0.05, 0.08, 0.1, 0.2, 0.5, 1, 10]}\n",
    "\n",
    "model_ridge = Ridge(normalize=True)\n",
    "search = GridSearchCV(model_ridge, param_grid, scoring='r2', cv=5)\n",
    "search.fit(X_train_poly,y_train)\n",
    "\n",
    "# predicting over training & testing datasets\n",
    "y_train_pred = search.predict(X_train_poly)\n",
    "y_test_pred = search.predict(X_test_poly)"
   ]
  },
  {
   "cell_type": "markdown",
   "metadata": {},
   "source": [
    "The best estimator and its performance on the cross validation set are:"
   ]
  },
  {
   "cell_type": "code",
   "execution_count": 26,
   "metadata": {},
   "outputs": [
    {
     "name": "stdout",
     "output_type": "stream",
     "text": [
      "Best estimator:  Ridge(alpha=0.001, copy_X=True, fit_intercept=True, max_iter=None,\n",
      "      normalize=True, random_state=None, solver='auto', tol=0.001)\n",
      "Best CV R2 score:  0.8539570210178583\n"
     ]
    }
   ],
   "source": [
    "print(\"Best estimator: \", search.best_estimator_)\n",
    "print(\"Best CV R2 score: \", search.best_score_)"
   ]
  },
  {
   "cell_type": "code",
   "execution_count": 27,
   "metadata": {},
   "outputs": [
    {
     "name": "stdout",
     "output_type": "stream",
     "text": [
      "The model performance for training set\n",
      "--------------------------------------\n",
      "RMSE is 2.6703396620101274\n",
      "R2 score is 0.9169898370752075\n",
      "\n",
      "\n",
      "The model performance for testing set\n",
      "--------------------------------------\n",
      "RMSE is 2.8068792529578883\n",
      "R2 score is 0.899371799208994\n"
     ]
    }
   ],
   "source": [
    "# model evaluation for training set\n",
    "rmse = (np.sqrt(mean_squared_error(y_train, y_train_pred)))\n",
    "r2 = r2_score(y_train, y_train_pred)\n",
    "\n",
    "print(\"The model performance for training set\")\n",
    "print(\"--------------------------------------\")\n",
    "print('RMSE is {}'.format(rmse))\n",
    "print('R2 score is {}'.format(r2))\n",
    "print(\"\\n\")\n",
    "\n",
    "# model evaluation for testing set\n",
    "rmse = (np.sqrt(mean_squared_error(y_test, y_test_pred)))\n",
    "r2 = r2_score(y_test, y_test_pred)\n",
    "\n",
    "print(\"The model performance for testing set\")\n",
    "print(\"--------------------------------------\")\n",
    "print('RMSE is {}'.format(rmse))\n",
    "print('R2 score is {}'.format(r2))"
   ]
  },
  {
   "cell_type": "markdown",
   "metadata": {},
   "source": [
    "### Lasso Regression\n",
    "\n",
    "Now, let's try to train a lasso model while hypertuning the regularization parameter."
   ]
  },
  {
   "cell_type": "code",
   "execution_count": 28,
   "metadata": {
    "scrolled": true
   },
   "outputs": [],
   "source": [
    "## training the model\n",
    "param_grid = {'alpha': [10**(-5), 10**(-4), 10**(-3), 0.005, 0.008, 0.01, 0.05, 0.1, 0.5, 1, 10]}\n",
    "\n",
    "model_lasso = Lasso(normalize=True)\n",
    "search = GridSearchCV(model_lasso, param_grid, scoring='r2', cv=5)\n",
    "search.fit(X_train_poly, y_train)\n",
    "\n",
    "# predicting over training & testing datasets\n",
    "y_train_pred = search.predict(X_train_poly)\n",
    "y_test_pred = search.predict(X_test_poly)"
   ]
  },
  {
   "cell_type": "markdown",
   "metadata": {},
   "source": [
    "The best estimator and its performance on the cross validation set are:"
   ]
  },
  {
   "cell_type": "code",
   "execution_count": 29,
   "metadata": {},
   "outputs": [
    {
     "name": "stdout",
     "output_type": "stream",
     "text": [
      "Best estimator:  Lasso(alpha=0.0001, copy_X=True, fit_intercept=True, max_iter=1000,\n",
      "      normalize=True, positive=False, precompute=False, random_state=None,\n",
      "      selection='cyclic', tol=0.0001, warm_start=False)\n",
      "Best CV R2 score:  0.8364463474425128\n"
     ]
    }
   ],
   "source": [
    "print(\"Best estimator: \", search.best_estimator_)\n",
    "print(\"Best CV R2 score: \", search.best_score_)"
   ]
  },
  {
   "cell_type": "markdown",
   "metadata": {},
   "source": [
    "Let's examine how our model parameters have changed with lasso regression:"
   ]
  },
  {
   "cell_type": "code",
   "execution_count": 30,
   "metadata": {},
   "outputs": [
    {
     "data": {
      "text/plain": [
       "<matplotlib.axes._subplots.AxesSubplot at 0x125886b50>"
      ]
     },
     "execution_count": 30,
     "metadata": {},
     "output_type": "execute_result"
    },
    {
     "data": {
      "image/png": "[encoded data removed]",
      "text/plain": [
       "<Figure size 432x288 with 1 Axes>"
      ]
     },
     "metadata": {
      "needs_background": "light"
     },
     "output_type": "display_data"
    }
   ],
   "source": [
    "coef = pd.Series(search.best_estimator_.coef_[:13],feature_cols)\n",
    "coef.plot(kind='bar', title='Model Coefficients')"
   ]
  },
  {
   "cell_type": "markdown",
   "metadata": {},
   "source": [
    "In Ridge, we have seen that as we increased the value of $\\lambda$, coefficients were approaching zero, but if you see the case of Lasso, even at smaller $\\lambda$’s, our coefficients are reduced to absolute zeroes. Therefore, lasso selects only some features while reduces the coefficients of others to zero. This property is known as feature selection and is absent in the case of Ridge."
   ]
  },
  {
   "cell_type": "markdown",
   "metadata": {},
   "source": [
    "Lasso regression model evaluation:"
   ]
  },
  {
   "cell_type": "code",
   "execution_count": 31,
   "metadata": {},
   "outputs": [
    {
     "name": "stdout",
     "output_type": "stream",
     "text": [
      "The model performance for training set\n",
      "--------------------------------------\n",
      "RMSE is 2.715734263157101\n",
      "R2 score is 0.9141435757729551\n",
      "\n",
      "\n",
      "The model performance for testing set\n",
      "--------------------------------------\n",
      "RMSE is 2.9337146666466976\n",
      "R2 score is 0.8900720849828134\n"
     ]
    }
   ],
   "source": [
    "# model evaluation for training set\n",
    "rmse = (np.sqrt(mean_squared_error(y_train, y_train_pred)))\n",
    "r2 = r2_score(y_train, y_train_pred)\n",
    "\n",
    "print(\"The model performance for training set\")\n",
    "print(\"--------------------------------------\")\n",
    "print('RMSE is {}'.format(rmse))\n",
    "print('R2 score is {}'.format(r2))\n",
    "print(\"\\n\")\n",
    "\n",
    "# model evaluation for testing set\n",
    "rmse = (np.sqrt(mean_squared_error(y_test, y_test_pred)))\n",
    "r2 = r2_score(y_test, y_test_pred)\n",
    "\n",
    "print(\"The model performance for testing set\")\n",
    "print(\"--------------------------------------\")\n",
    "print('RMSE is {}'.format(rmse))\n",
    "print('R2 score is {}'.format(r2))"
   ]
  },
  {
   "cell_type": "markdown",
   "metadata": {},
   "source": [
    "Which model is the best? Well, everything is relative.\n",
    "\n",
    "Based on the predefined single evaluation metric, you can fit different models and choose the one with the best performance on the unseen testing dataset. "
   ]
  },
  {
   "cell_type": "markdown",
   "metadata": {},
   "source": [
    "Let's compare some of the predictions of houses with their actual prices:"
   ]
  },
  {
   "cell_type": "code",
   "execution_count": 32,
   "metadata": {},
   "outputs": [
    {
     "data": {
      "text/html": [
       "<div>\n",
       "<style scoped>\n",
       "    .dataframe tbody tr th:only-of-type {\n",
       "        vertical-align: middle;\n",
       "    }\n",
       "\n",
       "    .dataframe tbody tr th {\n",
       "        vertical-align: top;\n",
       "    }\n",
       "\n",
       "    .dataframe thead th {\n",
       "        text-align: right;\n",
       "    }\n",
       "</style>\n",
       "<table border=\"1\" class=\"dataframe\">\n",
       "  <thead>\n",
       "    <tr style=\"text-align: right;\">\n",
       "      <th></th>\n",
       "      <th>index</th>\n",
       "      <th>MEDV</th>\n",
       "      <th>Predicted</th>\n",
       "    </tr>\n",
       "  </thead>\n",
       "  <tbody>\n",
       "    <tr>\n",
       "      <th>0</th>\n",
       "      <td>21</td>\n",
       "      <td>19.6</td>\n",
       "      <td>15.981293</td>\n",
       "    </tr>\n",
       "    <tr>\n",
       "      <th>1</th>\n",
       "      <td>28</td>\n",
       "      <td>18.4</td>\n",
       "      <td>17.410332</td>\n",
       "    </tr>\n",
       "    <tr>\n",
       "      <th>2</th>\n",
       "      <td>34</td>\n",
       "      <td>13.5</td>\n",
       "      <td>15.325320</td>\n",
       "    </tr>\n",
       "    <tr>\n",
       "      <th>3</th>\n",
       "      <td>40</td>\n",
       "      <td>34.9</td>\n",
       "      <td>35.912218</td>\n",
       "    </tr>\n",
       "    <tr>\n",
       "      <th>4</th>\n",
       "      <td>43</td>\n",
       "      <td>24.7</td>\n",
       "      <td>26.588107</td>\n",
       "    </tr>\n",
       "    <tr>\n",
       "      <th>5</th>\n",
       "      <td>49</td>\n",
       "      <td>19.4</td>\n",
       "      <td>18.999143</td>\n",
       "    </tr>\n",
       "    <tr>\n",
       "      <th>6</th>\n",
       "      <td>50</td>\n",
       "      <td>19.7</td>\n",
       "      <td>20.559252</td>\n",
       "    </tr>\n",
       "    <tr>\n",
       "      <th>7</th>\n",
       "      <td>52</td>\n",
       "      <td>25.0</td>\n",
       "      <td>27.703720</td>\n",
       "    </tr>\n",
       "    <tr>\n",
       "      <th>8</th>\n",
       "      <td>56</td>\n",
       "      <td>24.7</td>\n",
       "      <td>23.823525</td>\n",
       "    </tr>\n",
       "    <tr>\n",
       "      <th>9</th>\n",
       "      <td>66</td>\n",
       "      <td>19.4</td>\n",
       "      <td>17.224385</td>\n",
       "    </tr>\n",
       "  </tbody>\n",
       "</table>\n",
       "</div>"
      ],
      "text/plain": [
       "   index  MEDV  Predicted\n",
       "0     21  19.6  15.981293\n",
       "1     28  18.4  17.410332\n",
       "2     34  13.5  15.325320\n",
       "3     40  34.9  35.912218\n",
       "4     43  24.7  26.588107\n",
       "5     49  19.4  18.999143\n",
       "6     50  19.7  20.559252\n",
       "7     52  25.0  27.703720\n",
       "8     56  24.7  23.823525\n",
       "9     66  19.4  17.224385"
      ]
     },
     "execution_count": 32,
     "metadata": {},
     "output_type": "execute_result"
    }
   ],
   "source": [
    "predictions = y_test\n",
    "predictions['Predicted'] = y_test_pred\n",
    "predictions = predictions.sort_index().reset_index()\n",
    "predictions.head(10)"
   ]
  },
  {
   "cell_type": "code",
   "execution_count": 33,
   "metadata": {},
   "outputs": [
    {
     "data": {
      "image/png": "[encoded data removed]",
      "text/plain": [
       "<Figure size 864x576 with 1 Axes>"
      ]
     },
     "metadata": {
      "needs_background": "light"
     },
     "output_type": "display_data"
    }
   ],
   "source": [
    "# plot initial dataset\n",
    "plt.figure(figsize=(12, 8))\n",
    "predictions['MEDV'].plot(legend=True)\n",
    "predictions['Predicted'].plot(legend=True)\n",
    "plt.title('Actual vs. Predicted Price')\n",
    "plt.ylabel('Price')\n",
    "plt.show()"
   ]
  }
 ],
 "metadata": {
  "kernelspec": {
   "display_name": "Python 3",
   "language": "python",
   "name": "python3"
  },
  "language_info": {
   "codemirror_mode": {
    "name": "ipython",
    "version": 3
   },
   "file_extension": ".py",
   "mimetype": "text/x-python",
   "name": "python",
   "nbconvert_exporter": "python",
   "pygments_lexer": "ipython3",
   "version": "3.5.3"
  }
 },
 "nbformat": 4,
 "nbformat_minor": 4
}
